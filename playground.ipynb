{
 "cells": [
  {
   "cell_type": "code",
   "execution_count": 1,
   "metadata": {},
   "outputs": [],
   "source": [
    "# add torchvision, gpytorch\n",
    "import torch\n",
    "import gpytorch\n",
    "from gpytorch.constraints import Positive\n",
    "import numpy as np"
   ]
  },
  {
   "cell_type": "code",
   "execution_count": 6,
   "metadata": {},
   "outputs": [],
   "source": [
    "from sclibrary.edge_kernels.diffusion_kernel import DiffusionKernel\n",
    "\n",
    "# tqdm, torcheval\n",
    "from tqdm.notebook import tqdm \n",
    "from torcheval.metrics.functional import r2_score"
   ]
  },
  {
   "cell_type": "code",
   "execution_count": null,
   "metadata": {},
   "outputs": [],
   "source": [
    "# read dataset\n",
    "data_path = \"data/foreign_exchange/flow_FX_1538755200.csv\"\n"
   ]
  }
 ],
 "metadata": {
  "colab": {
   "collapsed_sections": [
    "9-FO_FFTqfqj",
    "ztW-os_4TQ-2",
    "u3JjaZCDTWN8",
    "Ksa7d2pjTO86",
    "ekMofq1duzy3",
    "Gndcntqt69-N",
    "lgnlFVTZ7Bec",
    "tG4ejXt-Gi7j",
    "YHkEUJJRGnTf"
   ],
   "provenance": []
  },
  "gpuClass": "standard",
  "kernelspec": {
   "display_name": "Python 3 (ipykernel)",
   "language": "python",
   "name": "python3"
  },
  "language_info": {
   "codemirror_mode": {
    "name": "ipython",
    "version": 3
   },
   "file_extension": ".py",
   "mimetype": "text/x-python",
   "name": "python",
   "nbconvert_exporter": "python",
   "pygments_lexer": "ipython3",
   "version": "3.11.9"
  }
 },
 "nbformat": 4,
 "nbformat_minor": 4
}
