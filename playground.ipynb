{
 "cells": [
  {
   "cell_type": "markdown",
   "metadata": {},
   "source": [
    "### Reading data"
   ]
  },
  {
   "cell_type": "code",
   "execution_count": 1,
   "metadata": {},
   "outputs": [
    {
     "name": "stdout",
     "output_type": "stream",
     "text": [
      "Num. of nodes: 657\n",
      "Num. of edges: 1997\n",
      "Num. of triangles: 1276\n",
      "Shape: (657, 1997, 1276)\n",
      "Max Dimension: 2\n",
      "flow 1997\n"
     ]
    }
   ],
   "source": [
    "\n",
    "from sclibrary.io.network_reader import read_B1_B2\n",
    "import pandas as pd\n",
    "\n",
    "path = \"data/lastfm-dataset-1K\"\n",
    "scbuilder, triangles = read_B1_B2(f\"{path}/B1-artist.csv\", f\"{path}/B2t-artist.csv\")\n",
    "sc = scbuilder.to_simplicial_complex(triangles=triangles)\n",
    "\n",
    "flow_path = f\"{path}/flow-artist.csv\"\n",
    "flow = (\n",
    "        pd.read_csv(flow_path, delimiter=\",\", header=None).to_numpy().flatten()\n",
    "    )\n",
    "\n",
    "print(\"flow\", len(flow))"
   ]
  },
  {
   "cell_type": "code",
   "execution_count": null,
   "metadata": {},
   "outputs": [],
   "source": []
  },
  {
   "cell_type": "code",
   "execution_count": 2,
   "metadata": {},
   "outputs": [
    {
     "name": "stdout",
     "output_type": "stream",
     "text": [
      "divergence_f: 1.4142135623730951\n",
      "curl_f: 220.68076490713912\n"
     ]
    }
   ],
   "source": [
    "import numpy as np\n",
    "from numpy.linalg import norm\n",
    "\n",
    "# Calculate initial divergence and curl\n",
    "B1 = sc.incidence_matrix(rank=1)\n",
    "B2 = sc.incidence_matrix(rank=2)\n",
    "div_f = norm(B1 @ flow)\n",
    "curl_f = norm(B2.T @ flow)\n",
    "print(\"divergence_f:\", div_f)\n",
    "print(\"curl_f:\", curl_f)"
   ]
  },
  {
   "cell_type": "code",
   "execution_count": 6,
   "metadata": {},
   "outputs": [],
   "source": [
    "num_edges = len(sc.edges)\n",
    "num_realizations = 50\n",
    "#snr_db = np.arange(-12, 6.5, 0.5)\n",
    "snr_db = np.arange(-12, 12.5, 12)\n",
    "snr = 10 ** (snr_db / 10)\n",
    "power_flow = np.linalg.norm(flow, 2)\n",
    "power_noise = power_flow / snr / num_edges"
   ]
  },
  {
   "cell_type": "code",
   "execution_count": 4,
   "metadata": {},
   "outputs": [],
   "source": [
    "# Initialize result arrays\n",
    "div_noisy = np.zeros((len(snr), num_realizations))\n",
    "curl_noisy = np.zeros((len(snr), num_realizations))\n",
    "err_noisy = np.zeros((len(snr), num_realizations))\n",
    "\n",
    "err_l2 = np.zeros((len(snr), num_realizations))\n",
    "div_l2 = np.zeros((len(snr), num_realizations))\n",
    "curl_l2 = np.zeros((len(snr), num_realizations))\n",
    "\n",
    "err_l1_1 = np.zeros((len(snr), num_realizations))\n",
    "div_l1_1 = np.zeros((len(snr), num_realizations))\n",
    "curl_l1_1 = np.zeros((len(snr), num_realizations))\n",
    "\n",
    "err_l1_2 = np.zeros((len(snr), num_realizations))\n",
    "div_l1_2 = np.zeros((len(snr), num_realizations))\n",
    "curl_l1_2 = np.zeros((len(snr), num_realizations))\n",
    "\n",
    "err_l1_3 = np.zeros((len(snr), num_realizations))\n",
    "div_l1_3 = np.zeros((len(snr), num_realizations))\n",
    "curl_l1_3 = np.zeros((len(snr), num_realizations))\n",
    "\n",
    "err_l1_4 = np.zeros((len(snr), num_realizations))\n",
    "div_l1_4 = np.zeros((len(snr), num_realizations))\n",
    "curl_l1_4 = np.zeros((len(snr), num_realizations))\n",
    "\n",
    "err_l1_5 = np.zeros((len(snr), num_realizations))\n",
    "div_l1_5 = np.zeros((len(snr), num_realizations))\n",
    "curl_l1_5 = np.zeros((len(snr), num_realizations))\n",
    "\n",
    "f_l2 = np.zeros((num_edges, len(snr), num_realizations))\n",
    "f_l1_1 = np.zeros((num_edges, len(snr), num_realizations))\n",
    "f_l1_2 = np.zeros((num_edges, len(snr), num_realizations))\n",
    "f_l1_3 = np.zeros((num_edges, len(snr), num_realizations))\n",
    "f_l1_4 = np.zeros((num_edges, len(snr), num_realizations))\n",
    "f_l1_5 = np.zeros((num_edges, len(snr), num_realizations))"
   ]
  },
  {
   "cell_type": "code",
   "execution_count": 5,
   "metadata": {},
   "outputs": [],
   "source": [
    "I = np.eye(num_edges)\n",
    "L1l = sc.lower_laplacian_matrix(rank=1)"
   ]
  },
  {
   "cell_type": "code",
   "execution_count": 6,
   "metadata": {},
   "outputs": [
    {
     "name": "stdout",
     "output_type": "stream",
     "text": [
      "0\n",
      "err_l2 0.303806691159758\n",
      "1\n",
      "err_l2 0.0194509165714284\n",
      "2\n",
      "err_l2 0.002977539972482728\n"
     ]
    }
   ],
   "source": [
    "for i in range(len(snr)):\n",
    "    print(i)\n",
    "    for ii in range(num_realizations):\n",
    "        noise = power_noise[i] * np.random.randn(num_edges, 1).flatten()\n",
    "        f_noisy = flow + noise\n",
    "    \n",
    "        # div_noisy[i, ii] = norm(B1 @ f_noisy)\n",
    "        # curl_noisy[i, ii] = norm(B2.T @ f_noisy)\n",
    "        err_noisy[i, ii] = np.linalg.norm(f_noisy - flow) / np.linalg.norm(flow)\n",
    "        \n",
    "        # L2 denoising\n",
    "        mu = 0.5\n",
    "        H = np.linalg.inv(I + mu * L1l)\n",
    "        f_l2[:, i, ii] = H @ f_noisy\n",
    "        err_l2[i, ii] = norm(f_l2[:, i, ii] - flow) / norm(flow)\n",
    "        div_l2[i, ii] = norm(B1 @ f_l2[:, i, ii])\n",
    "        curl_l2[i, ii] = norm(B2.T @ f_l2[:, i, ii])\n",
    "\n",
    "    print(\"err_l2\", np.mean(err_l2[i, :]))\n",
    "\n",
    "err_noisy_mean = np.mean(err_noisy, axis=1)\n",
    "err_l2_mean = np.mean(err_l2, axis=1)"
   ]
  },
  {
   "cell_type": "code",
   "execution_count": 8,
   "metadata": {},
   "outputs": [
    {
     "data": {
      "text/plain": [
       "array([0.30380669, 0.01945092, 0.00297754])"
      ]
     },
     "execution_count": 8,
     "metadata": {},
     "output_type": "execute_result"
    }
   ],
   "source": [
    "err_l2_mean"
   ]
  },
  {
   "cell_type": "code",
   "execution_count": 9,
   "metadata": {},
   "outputs": [
    {
     "name": "stdout",
     "output_type": "stream",
     "text": [
      "(CVXPY) May 29 09:37:58 PM: Encountered unexpected exception importing solver ECOS:\n",
      "ImportError(\"dlopen(/Users/irtaza.hashmi@futurice.com/Desktop/Thesis/sc-graph-library/thesis_venv/lib/python3.11/site-packages/_ecos.cpython-311-darwin.so, 0x0002): tried: '/Users/irtaza.hashmi@futurice.com/Desktop/Thesis/sc-graph-library/thesis_venv/lib/python3.11/site-packages/_ecos.cpython-311-darwin.so' (mach-o file, but is an incompatible architecture (have 'x86_64', need 'arm64')), '/System/Volumes/Preboot/Cryptexes/OS/Users/irtaza.hashmi@futurice.com/Desktop/Thesis/sc-graph-library/thesis_venv/lib/python3.11/site-packages/_ecos.cpython-311-darwin.so' (no such file), '/Users/irtaza.hashmi@futurice.com/Desktop/Thesis/sc-graph-library/thesis_venv/lib/python3.11/site-packages/_ecos.cpython-311-darwin.so' (mach-o file, but is an incompatible architecture (have 'x86_64', need 'arm64'))\")\n",
      "(CVXPY) May 29 09:37:58 PM: Encountered unexpected exception importing solver SCS:\n",
      "ImportError(\"dlopen(/Users/irtaza.hashmi@futurice.com/Desktop/Thesis/sc-graph-library/thesis_venv/lib/python3.11/site-packages/_scs_direct.cpython-311-darwin.so, 0x0002): tried: '/Users/irtaza.hashmi@futurice.com/Desktop/Thesis/sc-graph-library/thesis_venv/lib/python3.11/site-packages/_scs_direct.cpython-311-darwin.so' (mach-o file, but is an incompatible architecture (have 'x86_64', need 'arm64')), '/System/Volumes/Preboot/Cryptexes/OS/Users/irtaza.hashmi@futurice.com/Desktop/Thesis/sc-graph-library/thesis_venv/lib/python3.11/site-packages/_scs_direct.cpython-311-darwin.so' (no such file), '/Users/irtaza.hashmi@futurice.com/Desktop/Thesis/sc-graph-library/thesis_venv/lib/python3.11/site-packages/_scs_direct.cpython-311-darwin.so' (mach-o file, but is an incompatible architecture (have 'x86_64', need 'arm64'))\")\n",
      "(CVXPY) May 29 09:37:58 PM: Encountered unexpected exception importing solver ECOS_BB:\n",
      "ImportError(\"dlopen(/Users/irtaza.hashmi@futurice.com/Desktop/Thesis/sc-graph-library/thesis_venv/lib/python3.11/site-packages/_ecos.cpython-311-darwin.so, 0x0002): tried: '/Users/irtaza.hashmi@futurice.com/Desktop/Thesis/sc-graph-library/thesis_venv/lib/python3.11/site-packages/_ecos.cpython-311-darwin.so' (mach-o file, but is an incompatible architecture (have 'x86_64', need 'arm64')), '/System/Volumes/Preboot/Cryptexes/OS/Users/irtaza.hashmi@futurice.com/Desktop/Thesis/sc-graph-library/thesis_venv/lib/python3.11/site-packages/_ecos.cpython-311-darwin.so' (no such file), '/Users/irtaza.hashmi@futurice.com/Desktop/Thesis/sc-graph-library/thesis_venv/lib/python3.11/site-packages/_ecos.cpython-311-darwin.so' (mach-o file, but is an incompatible architecture (have 'x86_64', need 'arm64'))\")\n",
      "(CVXPY) May 29 09:37:58 PM: Encountered unexpected exception importing solver OSQP:\n",
      "ImportError(\"dlopen(/Users/irtaza.hashmi@futurice.com/Desktop/Thesis/sc-graph-library/thesis_venv/lib/python3.11/site-packages/qdldl.cpython-311-darwin.so, 0x0002): tried: '/Users/irtaza.hashmi@futurice.com/Desktop/Thesis/sc-graph-library/thesis_venv/lib/python3.11/site-packages/qdldl.cpython-311-darwin.so' (mach-o file, but is an incompatible architecture (have 'x86_64', need 'arm64')), '/System/Volumes/Preboot/Cryptexes/OS/Users/irtaza.hashmi@futurice.com/Desktop/Thesis/sc-graph-library/thesis_venv/lib/python3.11/site-packages/qdldl.cpython-311-darwin.so' (no such file), '/Users/irtaza.hashmi@futurice.com/Desktop/Thesis/sc-graph-library/thesis_venv/lib/python3.11/site-packages/qdldl.cpython-311-darwin.so' (mach-o file, but is an incompatible architecture (have 'x86_64', need 'arm64'))\")\n",
      "0\n",
      "1\n",
      "2\n"
     ]
    }
   ],
   "source": [
    "import cvxpy as cp\n",
    "\n",
    "def solver(num_edges, f_noisy, mat):\n",
    "    f_opt = cp.Variable(num_edges)\n",
    "    mat = mat @ f_opt\n",
    "    objective = cp.Minimize(1 * cp.norm(f_noisy - f_opt, p=2) + 0.5 * cp.norm(mat, p=1))\n",
    "    prob = cp.Problem(objective)\n",
    "    prob.solve()\n",
    "    return f_opt\n",
    "\n",
    "flow_norm = norm(flow)\n",
    "B1_L1l = B1 @ L1l\n",
    "L1l_2 = L1l @ L1l\n",
    "B1_L1l_2 = B1 @ L1l_2\n",
    "\n",
    "for i in range(len(snr)):\n",
    "    print(i)\n",
    "    for ii in range(num_realizations):\n",
    "        noise = power_noise[i] * np.random.randn(num_edges, 1).flatten()\n",
    "        f_noisy = flow + noise\n",
    "        \n",
    "        # L1 denoising\n",
    "        f_opt_1 = solver(num_edges, f_noisy, B1)\n",
    "        f_l1_1[:, i, ii] = f_opt_1.value\n",
    "        err_l1_1[i, ii] = norm(f_l1_1[:, i, ii] - flow) / flow_norm\n",
    "        div_l1_1[i, ii] = norm(B1 @ f_l1_1[:, i, ii])\n",
    "        curl_l1_1[i, ii] = norm(B2.T @ f_l1_1[:, i, ii])\n",
    "\n",
    "        # f_opt_2 = solver(num_edges, f_noisy, B1_L1l)\n",
    "        # f_l1_2[:, i, ii] = f_opt_2.value\n",
    "        # err_l1_2[i, ii] = norm(f_l1_2[:, i, ii] - flow) / flow_norm\n",
    "        # div_l1_2[i, ii] = norm(B1 @ f_l1_2[:, i, ii])\n",
    "        # curl_l1_2[i, ii] = norm(B2.T @ f_l1_2[:, i, ii])\n",
    "    \n",
    "        # f_opt_3 = solver(num_edges, f_noisy, B1_L1l_2)\n",
    "        # f_l1_3[:, i, ii] = f_opt_3.value\n",
    "        # err_l1_3[i, ii] = norm(f_l1_3[:, i, ii] - flow) / flow_norm\n",
    "        # div_l1_3[i, ii] = norm(B1 @ f_l1_3[:, i, ii])\n",
    "        # curl_l1_3[i, ii] = norm(B2.T @ f_l1_3[:, i, ii])\n",
    "        \n",
    "        # f_opt_4 = solver(num_edges, f_noisy, L1l)\n",
    "        # f_l1_4[:, i, ii] = f_opt_4.value\n",
    "        # err_l1_4[i, ii] = norm(f_l1_4[:, i, ii] - flow) / flow_norm\n",
    "        # div_l1_4[i, ii] = norm(B1 @ f_l1_4[:, i, ii])\n",
    "        # curl_l1_4[i, ii] = norm(B2.T @ f_l1_4[:, i, ii])\n",
    "        \n",
    "        # f_opt_5 = solver(num_edges, f_noisy, L1l_2)\n",
    "        # f_l1_5[:, i, ii] = f_opt_5.value\n",
    "        # err_l1_5[i, ii] = norm(f_l1_5[:, i, ii] - flow) / flow_norm\n",
    "        # div_l1_5[i, ii] = norm(B1 @ f_l1_5[:, i, ii])\n",
    "        # curl_l1_5[i, ii] = norm(B2.T @ f_l1_5[:, i, ii])\n",
    "        \n",
    "div_l1_1_mean = np.mean(div_l1_1, axis=1)\n",
    "err_l1_1_mean = np.mean(err_l1_1, axis=1)"
   ]
  },
  {
   "cell_type": "code",
   "execution_count": 11,
   "metadata": {},
   "outputs": [
    {
     "data": {
      "text/plain": [
       "<matplotlib.legend.Legend at 0x150fb24d0>"
      ]
     },
     "execution_count": 11,
     "metadata": {},
     "output_type": "execute_result"
    },
    {
     "data": {
      "image/png": "[encoded data removed]",
      "text/plain": [
       "<Figure size 640x480 with 1 Axes>"
      ]
     },
     "metadata": {},
     "output_type": "display_data"
    }
   ],
   "source": [
    "import matplotlib.pyplot as plt\n",
    "\n",
    "plt.plot(snr_db, err_l2_mean, label=\"err_l2\")\n",
    "plt.plot(snr_db, err_l1_1_mean, label=\"err_l1_1\")\n",
    "plt.plot(snr_db, err_noisy_mean, label=\"err_noisy\")\n",
    "plt.legend()"
   ]
  },
  {
   "cell_type": "code",
   "execution_count": 26,
   "metadata": {},
   "outputs": [],
   "source": [
    "ratio = np.arange(0.05, 1.05, 0.5)\n",
    "corr_in_single = np.zeros((len(ratio), 100))\n",
    "corr_out_single = np.zeros((len(ratio), 100))\n",
    "div_in = np.zeros((len(ratio), 100))\n",
    "\n",
    "err_l1_1 = np.zeros((len(ratio), 100))\n",
    "corr_l1_1 = np.zeros((len(ratio), 100))\n",
    "div_l1_1 = np.zeros((len(ratio), 100))\n",
    "f_l1_1 = np.zeros((num_edges, len(ratio), 100))"
   ]
  },
  {
   "cell_type": "code",
   "execution_count": 27,
   "metadata": {},
   "outputs": [
    {
     "data": {
      "text/plain": [
       "array([0.05, 0.55])"
      ]
     },
     "execution_count": 27,
     "metadata": {},
     "output_type": "execute_result"
    }
   ],
   "source": [
    "ratio"
   ]
  },
  {
   "cell_type": "code",
   "execution_count": 28,
   "metadata": {},
   "outputs": [],
   "source": [
    "import cvxpy as cp\n",
    "\n",
    "I = np.eye(num_edges)\n",
    "\n",
    "for i, r in enumerate(ratio):\n",
    "    # the number of nonzero nodes\n",
    "    M = int(num_edges * r)  \n",
    "    for ii in range(50):\n",
    "        mask = np.zeros(num_edges)\n",
    "        mask[np.random.choice(num_edges, M, replace=False)] = 1\n",
    "        sampling_matrix = np.diag(mask)\n",
    "        \n",
    "        # the labeled\n",
    "        f_in = flow * mask\n",
    "        corr_in_single[i, ii] = np.corrcoef(flow, f_in)[0, 1]\n",
    "        \n",
    "        # the filter method\n",
    "        f_filtered1 = I @ f_in\n",
    "        corr_out_single[i, ii] = np.corrcoef(flow, f_filtered1)[0, 1]\n",
    "        div_in[i, ii] = np.linalg.norm(B1 @ f_in)\n",
    "        \n",
    "        f_opt_1 = cp.Variable(num_edges)\n",
    "        objective = cp.Minimize(cp.norm(f_opt_1 - f_in) + 0.5 * cp.norm(B1 @ f_opt_1, 1))\n",
    "        constraints = [sampling_matrix @ f_opt_1 == sampling_matrix @ f_in]\n",
    "        prob = cp.Problem(objective, constraints)\n",
    "        prob.solve()\n",
    "        \n",
    "        f_l1_1[:, i, ii] = f_opt_1.value\n",
    "        err_l1_1[i, ii] = np.linalg.norm(f_l1_1[:, i, ii] - flow) / np.linalg.norm(flow)\n",
    "        corr_l1_1[i, ii] = np.corrcoef(flow, f_l1_1[:, i, ii])[0, 1]\n",
    "        div_l1_1[i, ii] = np.linalg.norm(B1 @ f_l1_1[:, i, ii])"
   ]
  },
  {
   "cell_type": "code",
   "execution_count": 31,
   "metadata": {},
   "outputs": [
    {
     "data": {
      "text/plain": [
       "(array([0.47518292, 0.22648269]),\n",
       " array([0.14591562, 0.44286863]),\n",
       " array([0.82020142, 0.63257111]))"
      ]
     },
     "execution_count": 31,
     "metadata": {},
     "output_type": "execute_result"
    }
   ],
   "source": [
    "error_mean = np.mean(err_l1_1, axis=1)\n",
    "corr_mean = np.mean(corr_l1_1, axis=1)\n",
    "div_mean = np.mean(div_l1_1, axis=1)\n",
    "error_mean, corr_mean, div_mean"
   ]
  },
  {
   "cell_type": "code",
   "execution_count": null,
   "metadata": {},
   "outputs": [],
   "source": []
  }
 ],
 "metadata": {
  "colab": {
   "collapsed_sections": [
    "9-FO_FFTqfqj",
    "ztW-os_4TQ-2",
    "u3JjaZCDTWN8",
    "Ksa7d2pjTO86",
    "ekMofq1duzy3",
    "Gndcntqt69-N",
    "lgnlFVTZ7Bec",
    "tG4ejXt-Gi7j",
    "YHkEUJJRGnTf"
   ],
   "provenance": []
  },
  "gpuClass": "standard",
  "kernelspec": {
   "display_name": "Python 3 (ipykernel)",
   "language": "python",
   "name": "python3"
  },
  "language_info": {
   "codemirror_mode": {
    "name": "ipython",
    "version": 3
   },
   "file_extension": ".py",
   "mimetype": "text/x-python",
   "name": "python",
   "nbconvert_exporter": "python",
   "pygments_lexer": "ipython3",
   "version": "3.11.9"
  }
 },
 "nbformat": 4,
 "nbformat_minor": 4
}
