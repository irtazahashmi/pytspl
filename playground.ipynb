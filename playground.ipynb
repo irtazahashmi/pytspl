{
 "cells": [
  {
   "cell_type": "code",
   "execution_count": 7,
   "metadata": {},
   "outputs": [
    {
     "name": "stdout",
     "output_type": "stream",
     "text": [
      "Requirement already satisfied: sympy in ./thesis_venv/lib/python3.11/site-packages (1.12)\n",
      "Requirement already satisfied: mpmath>=0.19 in ./thesis_venv/lib/python3.11/site-packages (from sympy) (1.3.0)\n",
      "\n",
      "\u001b[1m[\u001b[0m\u001b[34;49mnotice\u001b[0m\u001b[1;39;49m]\u001b[0m\u001b[39;49m A new release of pip is available: \u001b[0m\u001b[31;49m23.2.1\u001b[0m\u001b[39;49m -> \u001b[0m\u001b[32;49m23.3.2\u001b[0m\n",
      "\u001b[1m[\u001b[0m\u001b[34;49mnotice\u001b[0m\u001b[1;39;49m]\u001b[0m\u001b[39;49m To update, run: \u001b[0m\u001b[32;49mpip install --upgrade pip\u001b[0m\n"
     ]
    }
   ],
   "source": [
    "!pip install sympy"
   ]
  },
  {
   "cell_type": "code",
   "execution_count": 8,
   "metadata": {},
   "outputs": [],
   "source": [
    "import numpy as np\n",
    "import pandas as pd\n",
    "from sclibrary.simplicial_complex import SimplicialComplexNetwork"
   ]
  },
  {
   "cell_type": "code",
   "execution_count": 9,
   "metadata": {},
   "outputs": [
    {
     "name": "stdout",
     "output_type": "stream",
     "text": [
      "(5, 7)\n"
     ]
    },
    {
     "data": {
      "text/html": [
       "<div>\n",
       "<style scoped>\n",
       "    .dataframe tbody tr th:only-of-type {\n",
       "        vertical-align: middle;\n",
       "    }\n",
       "\n",
       "    .dataframe tbody tr th {\n",
       "        vertical-align: top;\n",
       "    }\n",
       "\n",
       "    .dataframe thead th {\n",
       "        text-align: right;\n",
       "    }\n",
       "</style>\n",
       "<table border=\"1\" class=\"dataframe\">\n",
       "  <thead>\n",
       "    <tr style=\"text-align: right;\">\n",
       "      <th></th>\n",
       "      <th>0</th>\n",
       "      <th>1</th>\n",
       "      <th>2</th>\n",
       "      <th>3</th>\n",
       "      <th>4</th>\n",
       "      <th>5</th>\n",
       "      <th>6</th>\n",
       "    </tr>\n",
       "  </thead>\n",
       "  <tbody>\n",
       "    <tr>\n",
       "      <th>0</th>\n",
       "      <td>-1.0</td>\n",
       "      <td>-1.0</td>\n",
       "      <td>0.0</td>\n",
       "      <td>0.0</td>\n",
       "      <td>0.0</td>\n",
       "      <td>0.0</td>\n",
       "      <td>0.0</td>\n",
       "    </tr>\n",
       "    <tr>\n",
       "      <th>1</th>\n",
       "      <td>1.0</td>\n",
       "      <td>0.0</td>\n",
       "      <td>-1.0</td>\n",
       "      <td>-1.0</td>\n",
       "      <td>-1.0</td>\n",
       "      <td>0.0</td>\n",
       "      <td>0.0</td>\n",
       "    </tr>\n",
       "    <tr>\n",
       "      <th>2</th>\n",
       "      <td>0.0</td>\n",
       "      <td>1.0</td>\n",
       "      <td>1.0</td>\n",
       "      <td>0.0</td>\n",
       "      <td>0.0</td>\n",
       "      <td>-1.0</td>\n",
       "      <td>0.0</td>\n",
       "    </tr>\n",
       "    <tr>\n",
       "      <th>3</th>\n",
       "      <td>0.0</td>\n",
       "      <td>0.0</td>\n",
       "      <td>0.0</td>\n",
       "      <td>1.0</td>\n",
       "      <td>0.0</td>\n",
       "      <td>1.0</td>\n",
       "      <td>-1.0</td>\n",
       "    </tr>\n",
       "    <tr>\n",
       "      <th>4</th>\n",
       "      <td>0.0</td>\n",
       "      <td>0.0</td>\n",
       "      <td>0.0</td>\n",
       "      <td>0.0</td>\n",
       "      <td>1.0</td>\n",
       "      <td>0.0</td>\n",
       "      <td>1.0</td>\n",
       "    </tr>\n",
       "  </tbody>\n",
       "</table>\n",
       "</div>"
      ],
      "text/plain": [
       "     0    1    2    3    4    5    6\n",
       "0 -1.0 -1.0  0.0  0.0  0.0  0.0  0.0\n",
       "1  1.0  0.0 -1.0 -1.0 -1.0  0.0  0.0\n",
       "2  0.0  1.0  1.0  0.0  0.0 -1.0  0.0\n",
       "3  0.0  0.0  0.0  1.0  0.0  1.0 -1.0\n",
       "4  0.0  0.0  0.0  0.0  1.0  0.0  1.0"
      ]
     },
     "execution_count": 9,
     "metadata": {},
     "output_type": "execute_result"
    }
   ],
   "source": [
    "data_folder = 'data/sample_data'\n",
    "\n",
    "B1 = pd.read_csv(data_folder + '/B1.csv', header=None)\n",
    "print(B1.shape)\n",
    "B1"
   ]
  },
  {
   "cell_type": "code",
   "execution_count": 10,
   "metadata": {},
   "outputs": [
    {
     "name": "stdout",
     "output_type": "stream",
     "text": [
      "(2, 7)\n"
     ]
    },
    {
     "data": {
      "text/html": [
       "<div>\n",
       "<style scoped>\n",
       "    .dataframe tbody tr th:only-of-type {\n",
       "        vertical-align: middle;\n",
       "    }\n",
       "\n",
       "    .dataframe tbody tr th {\n",
       "        vertical-align: top;\n",
       "    }\n",
       "\n",
       "    .dataframe thead th {\n",
       "        text-align: right;\n",
       "    }\n",
       "</style>\n",
       "<table border=\"1\" class=\"dataframe\">\n",
       "  <thead>\n",
       "    <tr style=\"text-align: right;\">\n",
       "      <th></th>\n",
       "      <th>0</th>\n",
       "      <th>1</th>\n",
       "      <th>2</th>\n",
       "      <th>3</th>\n",
       "      <th>4</th>\n",
       "      <th>5</th>\n",
       "      <th>6</th>\n",
       "    </tr>\n",
       "  </thead>\n",
       "  <tbody>\n",
       "    <tr>\n",
       "      <th>0</th>\n",
       "      <td>0.0</td>\n",
       "      <td>0.0</td>\n",
       "      <td>1.0</td>\n",
       "      <td>-1.0</td>\n",
       "      <td>0.0</td>\n",
       "      <td>1.0</td>\n",
       "      <td>0.0</td>\n",
       "    </tr>\n",
       "    <tr>\n",
       "      <th>1</th>\n",
       "      <td>0.0</td>\n",
       "      <td>0.0</td>\n",
       "      <td>0.0</td>\n",
       "      <td>1.0</td>\n",
       "      <td>-1.0</td>\n",
       "      <td>0.0</td>\n",
       "      <td>1.0</td>\n",
       "    </tr>\n",
       "  </tbody>\n",
       "</table>\n",
       "</div>"
      ],
      "text/plain": [
       "     0    1    2    3    4    5    6\n",
       "0  0.0  0.0  1.0 -1.0  0.0  1.0  0.0\n",
       "1  0.0  0.0  0.0  1.0 -1.0  0.0  1.0"
      ]
     },
     "execution_count": 10,
     "metadata": {},
     "output_type": "execute_result"
    }
   ],
   "source": [
    "B2 = pd.read_csv(data_folder + '/B2.csv', header=None)\n",
    "print(B2.shape)\n",
    "B2"
   ]
  },
  {
   "cell_type": "code",
   "execution_count": 11,
   "metadata": {},
   "outputs": [
    {
     "name": "stdout",
     "output_type": "stream",
     "text": [
      "number of nodes:  5\n",
      "number of edges:  7\n",
      "number of triangles:  2\n",
      "Nodes [0, 1, 2, 3, 4]\n",
      "Edges [(0, 1), (0, 2), (1, 2), (1, 3), (1, 4), (2, 3), (3, 4)]\n",
      "Triangle Edges [[1, 2, 3], [1, 3, 4]]\n",
      "Adjacency [[ 0 -1 -1  0  0]\n",
      " [ 1  0 -1 -1 -1]\n",
      " [ 1  1  0 -1  0]\n",
      " [ 0  1  1  0 -1]\n",
      " [ 0  1  0  1  0]]\n",
      "[(0, 1), (0, 2), (1, 2), (1, 3), (1, 4), (2, 3), (3, 4), [1, 2, 3], [1, 3, 4]]\n"
     ]
    }
   ],
   "source": [
    "from sclibrary.read_incidence_matrix import ReadIncidenceMatrix\n",
    "\n",
    "data = ReadIncidenceMatrix(B1, B2)\n",
    "data.get_data_summary()\n",
    "print(\"Nodes\", data.get_nodes())\n",
    "print(\"Edges\", data.get_edge_list(rank=1))\n",
    "print(\"Triangle Edges\", data.get_edge_list(rank=2))\n",
    "print(\"Adjacency\", data.get_adjacency_matrix())\n",
    "\n",
    "edges = data.get_edge_list()\n",
    "print(edges)\n",
    "sc = SimplicialComplexNetwork(edges, pos=None)"
   ]
  },
  {
   "cell_type": "code",
   "execution_count": 12,
   "metadata": {},
   "outputs": [
    {
     "data": {
      "text/plain": [
       "array([[ 2.,  1., -1., -1., -1.,  0.,  0.],\n",
       "       [ 1.,  2.,  1.,  0.,  0., -1.,  0.],\n",
       "       [-1.,  1.,  3.,  0.,  1.,  0.,  0.],\n",
       "       [-1.,  0.,  0.,  4.,  0.,  0.,  0.],\n",
       "       [-1.,  0.,  1.,  0.,  3.,  0.,  0.],\n",
       "       [ 0., -1.,  0.,  0.,  0.,  3., -1.],\n",
       "       [ 0.,  0.,  0.,  0.,  0., -1.,  3.]], dtype=float32)"
      ]
     },
     "execution_count": 12,
     "metadata": {},
     "output_type": "execute_result"
    }
   ],
   "source": [
    "L1 = sc.hodge_laplacian_matrix(rank=1)\n",
    "L1L = sc.lower_laplacian_matrix(rank=1)\n",
    "L1U = sc.upper_laplacian_matrix(rank=1)\n",
    "L1"
   ]
  },
  {
   "cell_type": "code",
   "execution_count": 97,
   "metadata": {},
   "outputs": [],
   "source": [
    "import numpy as np\n",
    "import sympy\n",
    "\n",
    "\n",
    "def get_harmonic_eigenvectors(hodgle_lap_mat: np.ndarray) -> tuple:\n",
    "    u_h, lambda_vals = _get_eigenvectors(hodgle_lap_mat)\n",
    "    return u_h, lambda_vals\n",
    "\n",
    "\n",
    "\n",
    "def get_curl_eigenvectors(upper_lap_mat: np.ndarray) -> tuple:\n",
    "    u_c, lambda_vals = _get_eigenvectors(upper_lap_mat)\n",
    "    return u_c, lambda_vals\n",
    "\n",
    "\n",
    "def get_gradient_eigenvectors(lower_lap_mat: np.ndarray) -> tuple:\n",
    "    u_g, lambda_vals = _get_eigenvectors(lower_lap_mat)\n",
    "    return u_g, lambda_vals\n",
    "\n",
    "\n",
    "def _get_eigenvectors(lap_mat: np.ndarray) -> tuple:\n",
    "    eigenvalues, eigenvectors = np.linalg.eig(lap_mat)\n",
    "    # remove small values due to numerical errors\n",
    "    tolerance = 0.1 / np.abs(eigenvalues).max()\n",
    "    eigenvectors[np.abs(eigenvectors) < tolerance] = 0\n",
    "    lambda_values = np.diag(eigenvalues)\n",
    "    lambda_values[lambda_values < 1e-3] = 0\n",
    "    # L(k) = U(k) * lambda(k) * U(k).T\n",
    "    assert np.allclose(\n",
    "        np.rint(eigenvectors @ lambda_values @ np.linalg.inv(eigenvectors)),\n",
    "        lap_mat,\n",
    "    )\n",
    "    return eigenvectors, lambda_values\n",
    "\n",
    "\n",
    "def get_matrix_image(matrix: np.ndarray) -> tuple:\n",
    "    matrix_t = sympy.Matrix(matrix.T)\n",
    "    rref_matrix, pivot_columns = matrix_t.rref()\n",
    "    return rref_matrix, pivot_columns\n"
   ]
  },
  {
   "cell_type": "code",
   "execution_count": 103,
   "metadata": {},
   "outputs": [
    {
     "data": {
      "text/plain": [
       "array([[0.       , 0.       , 0.       , 0.       , 0.       , 0.       ,\n",
       "        0.       ],\n",
       "       [0.       , 1.5857865, 0.       , 0.       , 0.       , 0.       ,\n",
       "        0.       ],\n",
       "       [0.       , 0.       , 3.       , 0.       , 0.       , 0.       ,\n",
       "        0.       ],\n",
       "       [0.       , 0.       , 0.       , 5.       , 0.       , 0.       ,\n",
       "        0.       ],\n",
       "       [0.       , 0.       , 0.       , 0.       , 4.4142137, 0.       ,\n",
       "        0.       ],\n",
       "       [0.       , 0.       , 0.       , 0.       , 0.       , 0.       ,\n",
       "        0.       ],\n",
       "       [0.       , 0.       , 0.       , 0.       , 0.       , 0.       ,\n",
       "        0.       ]], dtype=float32)"
      ]
     },
     "execution_count": 103,
     "metadata": {},
     "output_type": "execute_result"
    }
   ],
   "source": [
    "u_g, lambda_vals_g = get_harmonic_eigenvectors(L1)\n",
    "u_c, lambda_vals_c = get_curl_eigenvectors(L1U)\n",
    "u_h, lambda_vals_h = get_gradient_eigenvectors(L1L)\n",
    "lambda_vals_h"
   ]
  },
  {
   "cell_type": "markdown",
   "metadata": {},
   "source": []
  },
  {
   "cell_type": "code",
   "execution_count": 104,
   "metadata": {},
   "outputs": [
    {
     "name": "stdout",
     "output_type": "stream",
     "text": [
      "flow [[0.63592699]\n",
      " [0.06425054]\n",
      " [0.23214849]\n",
      " [0.93742838]\n",
      " [0.89369076]\n",
      " [0.37616806]\n",
      " [0.35188138]]\n",
      "flow_h [[ 0.54178346]\n",
      " [-1.23320119]\n",
      " [ 0.09715402]\n",
      " [ 0.71367032]\n",
      " [-0.07323464]\n",
      " [ 0.20959977]\n",
      " [-0.54626241]]\n",
      "flow_g [[ 0.54178346]\n",
      " [-1.23320119]\n",
      " [ 0.09715402]\n",
      " [ 0.71367032]\n",
      " [ 0.07323464]\n",
      " [-0.03325359]\n",
      " [ 0.25623104]]\n",
      "flow_c [[ 0.56937773]\n",
      " [-0.03325359]\n",
      " [-0.25623104]\n",
      " [-1.19553723]\n",
      " [-0.05868932]\n",
      " [ 0.63592699]\n",
      " [ 0.06425054]]\n"
     ]
    }
   ],
   "source": [
    "# flow geenration\n",
    "flow = np.random.rand(L1.shape[0], 1)\n",
    "print(\"flow\", flow)\n",
    "# analyze frequency components\n",
    "flow_h = u_h.T @ flow\n",
    "flow_g = u_g.T @ flow\n",
    "flow_c = u_c.T @ flow\n",
    "print(\"flow_h\", flow_h)\n",
    "print(\"flow_g\", flow_g)\n",
    "print(\"flow_c\", flow_c)"
   ]
  },
  {
   "cell_type": "code",
   "execution_count": null,
   "metadata": {},
   "outputs": [],
   "source": []
  }
 ],
 "metadata": {
  "colab": {
   "collapsed_sections": [
    "9-FO_FFTqfqj",
    "ztW-os_4TQ-2",
    "u3JjaZCDTWN8",
    "Ksa7d2pjTO86",
    "ekMofq1duzy3",
    "Gndcntqt69-N",
    "lgnlFVTZ7Bec",
    "tG4ejXt-Gi7j",
    "YHkEUJJRGnTf"
   ],
   "provenance": []
  },
  "gpuClass": "standard",
  "kernelspec": {
   "display_name": "Python 3 (ipykernel)",
   "language": "python",
   "name": "python3"
  },
  "language_info": {
   "codemirror_mode": {
    "name": "ipython",
    "version": 3
   },
   "file_extension": ".py",
   "mimetype": "text/x-python",
   "name": "python",
   "nbconvert_exporter": "python",
   "pygments_lexer": "ipython3",
   "version": "3.11.6"
  }
 },
 "nbformat": 4,
 "nbformat_minor": 4
}
