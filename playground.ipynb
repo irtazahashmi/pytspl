{
 "cells": [
  {
   "cell_type": "markdown",
   "metadata": {},
   "source": [
    "### Reading data"
   ]
  },
  {
   "cell_type": "code",
   "execution_count": 4,
   "metadata": {},
   "outputs": [
    {
     "name": "stdout",
     "output_type": "stream",
     "text": [
      "nodes 3092\n",
      "edges 5507\n",
      "triangles 571\n"
     ]
    }
   ],
   "source": [
    "\n",
    "from sclibrary.io.network_reader import read_B1_B2, read_B2, read_flow\n",
    "import numpy as np\n",
    "\n",
    "path = \"data/lastfm-dataset-1K\"\n",
    "scbuilder = read_B1_B2(f\"{path}/B1.csv\")\n",
    "edges = np.asarray(scbuilder.edges)\n",
    "triangles = read_B2(f\"{path}/B2t.csv\", edges=edges)\n",
    "sc = scbuilder.to_simplicial_complex(triangles=triangles)\n",
    "\n",
    "print(\"nodes\", len(sc.nodes))\n",
    "print(\"edges\", len(sc.edges))\n",
    "print(\"triangles\", len(sc.triangles))"
   ]
  },
  {
   "cell_type": "code",
   "execution_count": null,
   "metadata": {},
   "outputs": [],
   "source": []
  }
 ],
 "metadata": {
  "colab": {
   "collapsed_sections": [
    "9-FO_FFTqfqj",
    "ztW-os_4TQ-2",
    "u3JjaZCDTWN8",
    "Ksa7d2pjTO86",
    "ekMofq1duzy3",
    "Gndcntqt69-N",
    "lgnlFVTZ7Bec",
    "tG4ejXt-Gi7j",
    "YHkEUJJRGnTf"
   ],
   "provenance": []
  },
  "gpuClass": "standard",
  "kernelspec": {
   "display_name": "Python 3 (ipykernel)",
   "language": "python",
   "name": "python3"
  },
  "language_info": {
   "codemirror_mode": {
    "name": "ipython",
    "version": 3
   },
   "file_extension": ".py",
   "mimetype": "text/x-python",
   "name": "python",
   "nbconvert_exporter": "python",
   "pygments_lexer": "ipython3",
   "version": "3.11.9"
  }
 },
 "nbformat": 4,
 "nbformat_minor": 4
}
