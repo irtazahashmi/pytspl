{
 "cells": [
  {
   "cell_type": "code",
   "execution_count": 1,
   "metadata": {},
   "outputs": [],
   "source": [
    "import pandas as pd"
   ]
  },
  {
   "cell_type": "code",
   "execution_count": 2,
   "metadata": {},
   "outputs": [
    {
     "name": "stdout",
     "output_type": "stream",
     "text": [
      "(5, 7)\n"
     ]
    },
    {
     "data": {
      "text/html": [
       "<div>\n",
       "<style scoped>\n",
       "    .dataframe tbody tr th:only-of-type {\n",
       "        vertical-align: middle;\n",
       "    }\n",
       "\n",
       "    .dataframe tbody tr th {\n",
       "        vertical-align: top;\n",
       "    }\n",
       "\n",
       "    .dataframe thead th {\n",
       "        text-align: right;\n",
       "    }\n",
       "</style>\n",
       "<table border=\"1\" class=\"dataframe\">\n",
       "  <thead>\n",
       "    <tr style=\"text-align: right;\">\n",
       "      <th></th>\n",
       "      <th>0</th>\n",
       "      <th>1</th>\n",
       "      <th>2</th>\n",
       "      <th>3</th>\n",
       "      <th>4</th>\n",
       "      <th>5</th>\n",
       "      <th>6</th>\n",
       "    </tr>\n",
       "  </thead>\n",
       "  <tbody>\n",
       "    <tr>\n",
       "      <th>0</th>\n",
       "      <td>-1.0</td>\n",
       "      <td>-1.0</td>\n",
       "      <td>0.0</td>\n",
       "      <td>0.0</td>\n",
       "      <td>0.0</td>\n",
       "      <td>0.0</td>\n",
       "      <td>0.0</td>\n",
       "    </tr>\n",
       "    <tr>\n",
       "      <th>1</th>\n",
       "      <td>1.0</td>\n",
       "      <td>0.0</td>\n",
       "      <td>-1.0</td>\n",
       "      <td>-1.0</td>\n",
       "      <td>-1.0</td>\n",
       "      <td>0.0</td>\n",
       "      <td>0.0</td>\n",
       "    </tr>\n",
       "    <tr>\n",
       "      <th>2</th>\n",
       "      <td>0.0</td>\n",
       "      <td>1.0</td>\n",
       "      <td>1.0</td>\n",
       "      <td>0.0</td>\n",
       "      <td>0.0</td>\n",
       "      <td>-1.0</td>\n",
       "      <td>0.0</td>\n",
       "    </tr>\n",
       "    <tr>\n",
       "      <th>3</th>\n",
       "      <td>0.0</td>\n",
       "      <td>0.0</td>\n",
       "      <td>0.0</td>\n",
       "      <td>1.0</td>\n",
       "      <td>0.0</td>\n",
       "      <td>1.0</td>\n",
       "      <td>-1.0</td>\n",
       "    </tr>\n",
       "    <tr>\n",
       "      <th>4</th>\n",
       "      <td>0.0</td>\n",
       "      <td>0.0</td>\n",
       "      <td>0.0</td>\n",
       "      <td>0.0</td>\n",
       "      <td>1.0</td>\n",
       "      <td>0.0</td>\n",
       "      <td>1.0</td>\n",
       "    </tr>\n",
       "  </tbody>\n",
       "</table>\n",
       "</div>"
      ],
      "text/plain": [
       "     0    1    2    3    4    5    6\n",
       "0 -1.0 -1.0  0.0  0.0  0.0  0.0  0.0\n",
       "1  1.0  0.0 -1.0 -1.0 -1.0  0.0  0.0\n",
       "2  0.0  1.0  1.0  0.0  0.0 -1.0  0.0\n",
       "3  0.0  0.0  0.0  1.0  0.0  1.0 -1.0\n",
       "4  0.0  0.0  0.0  0.0  1.0  0.0  1.0"
      ]
     },
     "execution_count": 2,
     "metadata": {},
     "output_type": "execute_result"
    }
   ],
   "source": [
    "data_folder = 'data/sample_data'\n",
    "\n",
    "B1 = pd.read_csv(data_folder + '/B1.csv', header=None)\n",
    "print(B1.shape)\n",
    "B1"
   ]
  },
  {
   "cell_type": "code",
   "execution_count": 3,
   "metadata": {},
   "outputs": [
    {
     "name": "stdout",
     "output_type": "stream",
     "text": [
      "(2, 7)\n"
     ]
    },
    {
     "data": {
      "text/html": [
       "<div>\n",
       "<style scoped>\n",
       "    .dataframe tbody tr th:only-of-type {\n",
       "        vertical-align: middle;\n",
       "    }\n",
       "\n",
       "    .dataframe tbody tr th {\n",
       "        vertical-align: top;\n",
       "    }\n",
       "\n",
       "    .dataframe thead th {\n",
       "        text-align: right;\n",
       "    }\n",
       "</style>\n",
       "<table border=\"1\" class=\"dataframe\">\n",
       "  <thead>\n",
       "    <tr style=\"text-align: right;\">\n",
       "      <th></th>\n",
       "      <th>0</th>\n",
       "      <th>1</th>\n",
       "      <th>2</th>\n",
       "      <th>3</th>\n",
       "      <th>4</th>\n",
       "      <th>5</th>\n",
       "      <th>6</th>\n",
       "    </tr>\n",
       "  </thead>\n",
       "  <tbody>\n",
       "    <tr>\n",
       "      <th>0</th>\n",
       "      <td>0.0</td>\n",
       "      <td>0.0</td>\n",
       "      <td>1.0</td>\n",
       "      <td>-1.0</td>\n",
       "      <td>0.0</td>\n",
       "      <td>1.0</td>\n",
       "      <td>0.0</td>\n",
       "    </tr>\n",
       "    <tr>\n",
       "      <th>1</th>\n",
       "      <td>0.0</td>\n",
       "      <td>0.0</td>\n",
       "      <td>0.0</td>\n",
       "      <td>1.0</td>\n",
       "      <td>-1.0</td>\n",
       "      <td>0.0</td>\n",
       "      <td>1.0</td>\n",
       "    </tr>\n",
       "  </tbody>\n",
       "</table>\n",
       "</div>"
      ],
      "text/plain": [
       "     0    1    2    3    4    5    6\n",
       "0  0.0  0.0  1.0 -1.0  0.0  1.0  0.0\n",
       "1  0.0  0.0  0.0  1.0 -1.0  0.0  1.0"
      ]
     },
     "execution_count": 3,
     "metadata": {},
     "output_type": "execute_result"
    }
   ],
   "source": [
    "B2 = pd.read_csv(data_folder + '/B2.csv', header=None)\n",
    "print(B2.shape)\n",
    "B2"
   ]
  },
  {
   "cell_type": "code",
   "execution_count": 6,
   "metadata": {},
   "outputs": [
    {
     "name": "stdout",
     "output_type": "stream",
     "text": [
      "number of nodes:  5\n",
      "number of edges:  7\n",
      "number of triangles:  2\n",
      "Nodes [0, 1, 2, 3, 4]\n",
      "Edges [(0, 1), (0, 2), (1, 2), (1, 3), (1, 4), (2, 3), (3, 4)]\n",
      "Triangle Edges [[1, 2, 3], [1, 3, 4]]\n",
      "Adjacency [[ 0 -1 -1  0  0]\n",
      " [ 1  0 -1 -1 -1]\n",
      " [ 1  1  0 -1  0]\n",
      " [ 0  1  1  0 -1]\n",
      " [ 0  1  0  1  0]]\n",
      "[(0, 1), (0, 2), (1, 2), (1, 3), (1, 4), (2, 3), (3, 4), [1, 2, 3], [1, 3, 4]]\n"
     ]
    }
   ],
   "source": [
    "from sclibrary.read_incidence_matrix import ReadIncidenceMatrix\n",
    "from sclibrary.simplicial_complex import SimplicialComplexNetwork\n",
    "\n",
    "data = ReadIncidenceMatrix(B1, B2)\n",
    "data.get_data_summary()\n",
    "print(\"Nodes\", data.get_nodes())\n",
    "print(\"Edges\", data.get_edge_list(rank=1))\n",
    "print(\"Triangle Edges\", data.get_edge_list(rank=2))\n",
    "print(\"Adjacency\", data.get_adjacency_matrix())\n",
    "\n",
    "edges = data.get_edge_list()\n",
    "print(edges)\n",
    "sc = SimplicialComplexNetwork(edges, pos=None)"
   ]
  },
  {
   "cell_type": "code",
   "execution_count": 144,
   "metadata": {},
   "outputs": [
    {
     "data": {
      "text/plain": [
       "array([[ 2.,  1., -1., -1., -1.,  0.,  0.],\n",
       "       [ 1.,  2.,  1.,  0.,  0., -1.,  0.],\n",
       "       [-1.,  1.,  3.,  0.,  1.,  0.,  0.],\n",
       "       [-1.,  0.,  0.,  4.,  0.,  0.,  0.],\n",
       "       [-1.,  0.,  1.,  0.,  3.,  0.,  0.],\n",
       "       [ 0., -1.,  0.,  0.,  0.,  3., -1.],\n",
       "       [ 0.,  0.,  0.,  0.,  0., -1.,  3.]], dtype=float32)"
      ]
     },
     "execution_count": 144,
     "metadata": {},
     "output_type": "execute_result"
    }
   ],
   "source": [
    "L1 = sc.hodge_laplacian_matrix(rank=1)\n",
    "L1L = sc.lower_laplacian_matrix(rank=1)\n",
    "L1U = sc.upper_laplacian_matrix(rank=1)\n",
    "L1U + L1L"
   ]
  },
  {
   "cell_type": "code",
   "execution_count": 182,
   "metadata": {},
   "outputs": [],
   "source": [
    "import numpy as np\n",
    "\n",
    "def get_harmonic_eigenvectors(hodgle_lap_mat: np.ndarray) -> tuple:\n",
    "    eigenvectors, eigenvalues = _get_eigendecomposition(hodgle_lap_mat)\n",
    "    # get columns with zero eigenvalues\n",
    "    u_h = eigenvectors[:, np.where(eigenvalues == 0)[0]]\n",
    "    return u_h, eigenvalues\n",
    "\n",
    "def get_curl_eigenvectors(upper_lap_mat: np.ndarray) -> tuple:\n",
    "    eigenvectors, eigenvalues = _get_eigendecomposition(upper_lap_mat)\n",
    "    # get columns with non-zero eigenvalues\n",
    "    u_c = eigenvectors[:, np.where(eigenvalues != 0)[0]]\n",
    "    return u_c, eigenvalues\n",
    "\n",
    "\n",
    "def get_gradient_eigenvectors(lower_lap_mat: np.ndarray) -> tuple:\n",
    "    eigenvectors, eigenvalues = _get_eigendecomposition(lower_lap_mat)\n",
    "    # get columns with non-zero eigenvalues\n",
    "    u_g = eigenvectors[:, np.where(eigenvalues != 0)[0]]\n",
    "    return u_g, eigenvalues\n",
    "\n",
    "def _get_eigendecomposition(lap_mat: np.ndarray, tolerance=1e-03) -> tuple:\n",
    "    eigenvalues, eigenvectors = np.linalg.eig(lap_mat)\n",
    "    eigenvalues[eigenvalues < tolerance] = 0\n",
    "    lambda_matrix = np.diag(eigenvalues)\n",
    "    # verify L(k) = U(k) * lambda(k) * U(k).T\n",
    "    assert np.allclose(\n",
    "        np.rint(eigenvectors @ lambda_matrix @ eigenvectors.T),\n",
    "        lap_mat,\n",
    "    )\n",
    "    return eigenvectors, eigenvalues"
   ]
  },
  {
   "cell_type": "code",
   "execution_count": 183,
   "metadata": {},
   "outputs": [
    {
     "data": {
      "text/plain": [
       "(7, 7)"
      ]
     },
     "execution_count": 183,
     "metadata": {},
     "output_type": "execute_result"
    }
   ],
   "source": [
    "u_h, lambda_mat_h = get_harmonic_eigenvectors(L1)\n",
    "u_c, lambda_mat_c = get_curl_eigenvectors(L1U)\n",
    "u_g, lambda_mat_g = get_gradient_eigenvectors(L1L)"
   ]
  },
  {
   "cell_type": "code",
   "execution_count": 137,
   "metadata": {},
   "outputs": [
    {
     "name": "stdout",
     "output_type": "stream",
     "text": [
      "flow [[0.31004]\n",
      " [0.03894]\n",
      " [0.10792]\n",
      " [0.1813 ]\n",
      " [0.45826]\n",
      " [0.18989]\n",
      " [0.53967]]\n",
      "flow_h [[ 0.18668]\n",
      " [-0.67182]\n",
      " [-0.24841]\n",
      " [ 0.21872]\n",
      " [-0.21247]\n",
      " [-0.18961]\n",
      " [ 0.05168]]\n",
      "flow_g [[ 0.18668]\n",
      " [-0.67182]\n",
      " [-0.24841]\n",
      " [ 0.21872]\n",
      " [ 0.21247]\n",
      " [ 0.16781]\n",
      " [-0.18515]]\n",
      "flow_c [[ 0.1434 ]\n",
      " [-0.18961]\n",
      " [-0.05168]\n",
      " [-0.40154]\n",
      " [ 0.37462]\n",
      " [ 0.31004]\n",
      " [ 0.03894]]\n"
     ]
    }
   ],
   "source": [
    "# flow geenration\n",
    "flow = np.random.rand(L1.shape[0], 1)\n",
    "print(\"flow\", flow)\n",
    "# analyze frequency components\n",
    "flow_h = u_h.T @ flow\n",
    "flow_g = u_g.T @ flow\n",
    "flow_c = u_c.T @ flow\n",
    "print(\"flow_h\", flow_h)\n",
    "print(\"flow_g\", flow_g)\n",
    "print(\"flow_c\", flow_c)"
   ]
  },
  {
   "cell_type": "code",
   "execution_count": null,
   "metadata": {},
   "outputs": [],
   "source": []
  }
 ],
 "metadata": {
  "colab": {
   "collapsed_sections": [
    "9-FO_FFTqfqj",
    "ztW-os_4TQ-2",
    "u3JjaZCDTWN8",
    "Ksa7d2pjTO86",
    "ekMofq1duzy3",
    "Gndcntqt69-N",
    "lgnlFVTZ7Bec",
    "tG4ejXt-Gi7j",
    "YHkEUJJRGnTf"
   ],
   "provenance": []
  },
  "gpuClass": "standard",
  "kernelspec": {
   "display_name": "Python 3 (ipykernel)",
   "language": "python",
   "name": "python3"
  },
  "language_info": {
   "codemirror_mode": {
    "name": "ipython",
    "version": 3
   },
   "file_extension": ".py",
   "mimetype": "text/x-python",
   "name": "python",
   "nbconvert_exporter": "python",
   "pygments_lexer": "ipython3",
   "version": "3.11.6"
  }
 },
 "nbformat": 4,
 "nbformat_minor": 4
}
