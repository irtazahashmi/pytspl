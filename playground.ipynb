{
 "cells": [
  {
   "cell_type": "code",
   "execution_count": 2,
   "metadata": {},
   "outputs": [],
   "source": [
    "!pip install sympy"
   ]
  },
  {
   "cell_type": "code",
   "execution_count": 7,
   "metadata": {},
   "outputs": [],
   "source": [
    "import numpy as np\n",
    "import pandas as pd\n",
    "from sclibrary.simplicial_complex import SimplicialComplexNetwork"
   ]
  },
  {
   "cell_type": "code",
   "execution_count": 8,
   "metadata": {},
   "outputs": [
    {
     "name": "stdout",
     "output_type": "stream",
     "text": [
      "(5, 7)\n"
     ]
    },
    {
     "data": {
      "text/html": [
       "<div>\n",
       "<style scoped>\n",
       "    .dataframe tbody tr th:only-of-type {\n",
       "        vertical-align: middle;\n",
       "    }\n",
       "\n",
       "    .dataframe tbody tr th {\n",
       "        vertical-align: top;\n",
       "    }\n",
       "\n",
       "    .dataframe thead th {\n",
       "        text-align: right;\n",
       "    }\n",
       "</style>\n",
       "<table border=\"1\" class=\"dataframe\">\n",
       "  <thead>\n",
       "    <tr style=\"text-align: right;\">\n",
       "      <th></th>\n",
       "      <th>0</th>\n",
       "      <th>1</th>\n",
       "      <th>2</th>\n",
       "      <th>3</th>\n",
       "      <th>4</th>\n",
       "      <th>5</th>\n",
       "      <th>6</th>\n",
       "    </tr>\n",
       "  </thead>\n",
       "  <tbody>\n",
       "    <tr>\n",
       "      <th>0</th>\n",
       "      <td>-1.0</td>\n",
       "      <td>-1.0</td>\n",
       "      <td>0.0</td>\n",
       "      <td>0.0</td>\n",
       "      <td>0.0</td>\n",
       "      <td>0.0</td>\n",
       "      <td>0.0</td>\n",
       "    </tr>\n",
       "    <tr>\n",
       "      <th>1</th>\n",
       "      <td>1.0</td>\n",
       "      <td>0.0</td>\n",
       "      <td>-1.0</td>\n",
       "      <td>-1.0</td>\n",
       "      <td>-1.0</td>\n",
       "      <td>0.0</td>\n",
       "      <td>0.0</td>\n",
       "    </tr>\n",
       "    <tr>\n",
       "      <th>2</th>\n",
       "      <td>0.0</td>\n",
       "      <td>1.0</td>\n",
       "      <td>1.0</td>\n",
       "      <td>0.0</td>\n",
       "      <td>0.0</td>\n",
       "      <td>-1.0</td>\n",
       "      <td>0.0</td>\n",
       "    </tr>\n",
       "    <tr>\n",
       "      <th>3</th>\n",
       "      <td>0.0</td>\n",
       "      <td>0.0</td>\n",
       "      <td>0.0</td>\n",
       "      <td>1.0</td>\n",
       "      <td>0.0</td>\n",
       "      <td>1.0</td>\n",
       "      <td>-1.0</td>\n",
       "    </tr>\n",
       "    <tr>\n",
       "      <th>4</th>\n",
       "      <td>0.0</td>\n",
       "      <td>0.0</td>\n",
       "      <td>0.0</td>\n",
       "      <td>0.0</td>\n",
       "      <td>1.0</td>\n",
       "      <td>0.0</td>\n",
       "      <td>1.0</td>\n",
       "    </tr>\n",
       "  </tbody>\n",
       "</table>\n",
       "</div>"
      ],
      "text/plain": [
       "     0    1    2    3    4    5    6\n",
       "0 -1.0 -1.0  0.0  0.0  0.0  0.0  0.0\n",
       "1  1.0  0.0 -1.0 -1.0 -1.0  0.0  0.0\n",
       "2  0.0  1.0  1.0  0.0  0.0 -1.0  0.0\n",
       "3  0.0  0.0  0.0  1.0  0.0  1.0 -1.0\n",
       "4  0.0  0.0  0.0  0.0  1.0  0.0  1.0"
      ]
     },
     "execution_count": 8,
     "metadata": {},
     "output_type": "execute_result"
    }
   ],
   "source": [
    "data_folder = 'data/sample_data'\n",
    "\n",
    "B1 = pd.read_csv(data_folder + '/B1.csv', header=None)\n",
    "print(B1.shape)\n",
    "B1"
   ]
  },
  {
   "cell_type": "code",
   "execution_count": 9,
   "metadata": {},
   "outputs": [
    {
     "name": "stdout",
     "output_type": "stream",
     "text": [
      "(2, 7)\n"
     ]
    },
    {
     "data": {
      "text/html": [
       "<div>\n",
       "<style scoped>\n",
       "    .dataframe tbody tr th:only-of-type {\n",
       "        vertical-align: middle;\n",
       "    }\n",
       "\n",
       "    .dataframe tbody tr th {\n",
       "        vertical-align: top;\n",
       "    }\n",
       "\n",
       "    .dataframe thead th {\n",
       "        text-align: right;\n",
       "    }\n",
       "</style>\n",
       "<table border=\"1\" class=\"dataframe\">\n",
       "  <thead>\n",
       "    <tr style=\"text-align: right;\">\n",
       "      <th></th>\n",
       "      <th>0</th>\n",
       "      <th>1</th>\n",
       "      <th>2</th>\n",
       "      <th>3</th>\n",
       "      <th>4</th>\n",
       "      <th>5</th>\n",
       "      <th>6</th>\n",
       "    </tr>\n",
       "  </thead>\n",
       "  <tbody>\n",
       "    <tr>\n",
       "      <th>0</th>\n",
       "      <td>0.0</td>\n",
       "      <td>0.0</td>\n",
       "      <td>1.0</td>\n",
       "      <td>-1.0</td>\n",
       "      <td>0.0</td>\n",
       "      <td>1.0</td>\n",
       "      <td>0.0</td>\n",
       "    </tr>\n",
       "    <tr>\n",
       "      <th>1</th>\n",
       "      <td>0.0</td>\n",
       "      <td>0.0</td>\n",
       "      <td>0.0</td>\n",
       "      <td>1.0</td>\n",
       "      <td>-1.0</td>\n",
       "      <td>0.0</td>\n",
       "      <td>1.0</td>\n",
       "    </tr>\n",
       "  </tbody>\n",
       "</table>\n",
       "</div>"
      ],
      "text/plain": [
       "     0    1    2    3    4    5    6\n",
       "0  0.0  0.0  1.0 -1.0  0.0  1.0  0.0\n",
       "1  0.0  0.0  0.0  1.0 -1.0  0.0  1.0"
      ]
     },
     "execution_count": 9,
     "metadata": {},
     "output_type": "execute_result"
    }
   ],
   "source": [
    "B2 = pd.read_csv(data_folder + '/B2.csv', header=None)\n",
    "print(B2.shape)\n",
    "B2"
   ]
  },
  {
   "cell_type": "code",
   "execution_count": 10,
   "metadata": {},
   "outputs": [
    {
     "name": "stdout",
     "output_type": "stream",
     "text": [
      "number of nodes:  5\n",
      "number of edges:  7\n",
      "number of triangles:  2\n",
      "Nodes [0, 1, 2, 3, 4]\n",
      "Edges [(0, 1), (0, 2), (1, 2), (1, 3), (1, 4), (2, 3), (3, 4)]\n",
      "Triangle Edges [[1, 2, 3], [1, 3, 4]]\n",
      "Adjacency [[ 0 -1 -1  0  0]\n",
      " [ 1  0 -1 -1 -1]\n",
      " [ 1  1  0 -1  0]\n",
      " [ 0  1  1  0 -1]\n",
      " [ 0  1  0  1  0]]\n",
      "[(0, 1), (0, 2), (1, 2), (1, 3), (1, 4), (2, 3), (3, 4), [1, 2, 3], [1, 3, 4]]\n"
     ]
    }
   ],
   "source": [
    "from sclibrary.read_incidence_matrix import ReadIncidenceMatrix\n",
    "\n",
    "data = ReadIncidenceMatrix(B1, B2)\n",
    "data.get_data_summary()\n",
    "print(\"Nodes\", data.get_nodes())\n",
    "print(\"Edges\", data.get_edge_list(rank=1))\n",
    "print(\"Triangle Edges\", data.get_edge_list(rank=2))\n",
    "print(\"Adjacency\", data.get_adjacency_matrix())\n",
    "\n",
    "edges = data.get_edge_list()\n",
    "print(edges)\n",
    "sc = SimplicialComplexNetwork(edges, pos=None)"
   ]
  },
  {
   "cell_type": "code",
   "execution_count": 11,
   "metadata": {},
   "outputs": [
    {
     "data": {
      "text/plain": [
       "array([[ 2.,  1., -1., -1., -1.,  0.,  0.],\n",
       "       [ 1.,  2.,  1.,  0.,  0., -1.,  0.],\n",
       "       [-1.,  1.,  3.,  0.,  1.,  0.,  0.],\n",
       "       [-1.,  0.,  0.,  4.,  0.,  0.,  0.],\n",
       "       [-1.,  0.,  1.,  0.,  3.,  0.,  0.],\n",
       "       [ 0., -1.,  0.,  0.,  0.,  3., -1.],\n",
       "       [ 0.,  0.,  0.,  0.,  0., -1.,  3.]], dtype=float32)"
      ]
     },
     "execution_count": 11,
     "metadata": {},
     "output_type": "execute_result"
    }
   ],
   "source": [
    "L1 = sc.hodge_laplacian_matrix(rank=1)\n",
    "L1L = sc.lower_laplacian_matrix(rank=1)\n",
    "L1U = sc.upper_laplacian_matrix(rank=1)\n",
    "L1"
   ]
  },
  {
   "cell_type": "code",
   "execution_count": 12,
   "metadata": {},
   "outputs": [],
   "source": [
    "def get_eigendecomposition(hodgle_lap_mat, lower_lap_mat, upper_lap_mat):\n",
    "    # harmonic eigenvectors\n",
    "    u_h = get_eigenvectors(hodgle_lap_mat)\n",
    "    # gradient eigenvectors\n",
    "    u_g = get_eigenvectors(lower_lap_mat)\n",
    "    ## curl eigenvectors\n",
    "    u_c = get_eigenvectors(upper_lap_mat)\n",
    "    return u_h, u_g, u_c\n",
    "\n",
    "def get_eigenvectors(lap_mat):\n",
    "    eigenvalues, eigenvectors = np.linalg.eig(lap_mat)\n",
    "    lambda_values = np.diag(eigenvalues)\n",
    "    lambda_values[lambda_values < 1e-3] = 0\n",
    "    # L(k) = U(k) * lambda(k) * U(k).T\n",
    "    assert np.allclose(np.rint(eigenvectors @ lambda_values @ np.linalg.inv(eigenvectors)), lap_mat)\n",
    "    return eigenvectors"
   ]
  },
  {
   "cell_type": "code",
   "execution_count": 13,
   "metadata": {},
   "outputs": [
    {
     "data": {
      "text/plain": [
       "array([[ 6.1721343e-01, -5.1877373e-01,  2.8867513e-01, -5.0000000e-01,\n",
       "         1.2879470e-01,  7.2972907e-04, -6.1703771e-01],\n",
       "       [-6.1721343e-01, -3.0389065e-01,  5.7735026e-01, -6.4459498e-16,\n",
       "         4.3973261e-01, -7.2972907e-04,  6.1703771e-01],\n",
       "       [ 3.8575837e-01,  2.1488312e-01,  2.8867513e-01,  5.0000000e-01,\n",
       "         3.1093791e-01,  8.5687749e-02, -3.7199578e-01],\n",
       "       [ 1.5430336e-01, -2.1488312e-01,  2.8867513e-01,  5.0000000e-01,\n",
       "        -3.1093791e-01,  5.1509166e-01, -1.6826583e-01],\n",
       "       [ 7.7151679e-02, -5.1877373e-01, -2.8867513e-01,  5.0000000e-01,\n",
       "         1.2879470e-01, -6.0004967e-01, -7.6776087e-02],\n",
       "       [-2.3145503e-01, -4.2976624e-01, -2.8236944e-16,  1.4359947e-16,\n",
       "        -6.2187582e-01,  8.4958017e-02,  2.4504194e-01],\n",
       "       [-7.7151679e-02, -3.0389065e-01, -5.7735026e-01,  9.4069851e-17,\n",
       "         4.3973261e-01,  6.0004967e-01,  7.6776087e-02]], dtype=float32)"
      ]
     },
     "execution_count": 13,
     "metadata": {},
     "output_type": "execute_result"
    }
   ],
   "source": [
    "u_h, u_g, u_c = get_eigendecomposition(L1, L1L, L1U)\n",
    "u_g"
   ]
  },
  {
   "cell_type": "markdown",
   "metadata": {},
   "source": []
  },
  {
   "cell_type": "code",
   "execution_count": 250,
   "metadata": {},
   "outputs": [],
   "source": [
    "import sympy\n",
    "\n",
    "def get_matrix_image(matrix):\n",
    "    matrix_t = sympy.Matrix(matrix.T)\n",
    "    print(matrix_t)\n",
    "    rref_matrix, pivot_columns = matrix_t.rref()\n",
    "    return rref_matrix, pivot_columns\n",
    "\n",
    "def kernel(x1, x2):\n",
    "    return x1.T @ x2\n",
    "\n",
    "def kernel_kenny(a):\n",
    "    result = []\n",
    "    for i in range(a.shape[1]):\n",
    "      current_result = []\n",
    "      for j in range(a.shape[1]):\n",
    "        x1 = a[:, i]\n",
    "        x2 = a[:, j]\n",
    "        current_result.append(kernel(x1, x2))\n",
    "    \n",
    "      result.append(current_result)\n",
    "\n",
    "    return np.array(result)"
   ]
  },
  {
   "cell_type": "code",
   "execution_count": null,
   "metadata": {},
   "outputs": [],
   "source": []
  }
 ],
 "metadata": {
  "colab": {
   "collapsed_sections": [
    "9-FO_FFTqfqj",
    "ztW-os_4TQ-2",
    "u3JjaZCDTWN8",
    "Ksa7d2pjTO86",
    "ekMofq1duzy3",
    "Gndcntqt69-N",
    "lgnlFVTZ7Bec",
    "tG4ejXt-Gi7j",
    "YHkEUJJRGnTf"
   ],
   "provenance": []
  },
  "gpuClass": "standard",
  "kernelspec": {
   "display_name": "Python 3 (ipykernel)",
   "language": "python",
   "name": "python3"
  },
  "language_info": {
   "codemirror_mode": {
    "name": "ipython",
    "version": 3
   },
   "file_extension": ".py",
   "mimetype": "text/x-python",
   "name": "python",
   "nbconvert_exporter": "python",
   "pygments_lexer": "ipython3",
   "version": "3.11.6"
  }
 },
 "nbformat": 4,
 "nbformat_minor": 4
}
