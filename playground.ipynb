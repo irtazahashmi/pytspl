{
 "cells": [
  {
   "cell_type": "code",
   "execution_count": 6,
   "metadata": {},
   "outputs": [
    {
     "data": {
      "text/plain": [
       "array([[ 2.,  1.,  1., -1.,  0.,  0.,  0.,  0.,  0.,  0.],\n",
       "       [ 1.,  2.,  1.,  1., -1., -1.,  0.,  0.,  0.,  0.],\n",
       "       [ 1.,  1.,  2.,  0.,  1.,  0., -1.,  0.,  0.,  0.],\n",
       "       [-1.,  1.,  0.,  2., -1., -1.,  0.,  0.,  0.,  0.],\n",
       "       [ 0., -1.,  1., -1.,  2.,  1., -1.,  0.,  0.,  0.],\n",
       "       [ 0., -1.,  0., -1.,  1.,  2.,  0.,  1.,  0., -1.],\n",
       "       [ 0.,  0., -1.,  0., -1.,  0.,  2., -1., -1.,  0.],\n",
       "       [ 0.,  0.,  0.,  0.,  0.,  1., -1.,  2.,  1., -1.],\n",
       "       [ 0.,  0.,  0.,  0.,  0.,  0., -1.,  1.,  2.,  1.],\n",
       "       [ 0.,  0.,  0.,  0.,  0., -1.,  0., -1.,  1.,  2.]], dtype=float32)"
      ]
     },
     "execution_count": 6,
     "metadata": {},
     "output_type": "execute_result"
    }
   ],
   "source": [
    "from sclibrary.network_reader import NetworkReader\n",
    "from sclibrary.simplicial_complex import SimplicialComplexNetwork\n",
    "from sclibrary.plot import SCPlot \n",
    "import networkx as nx\n",
    "\n",
    "data_folder = 'data/paper_data'\n",
    "\n",
    "# read csv\n",
    "filename = data_folder + '/edges.csv'\n",
    "delimeter = \" \"\n",
    "src_col = 'Source'\n",
    "dest_col = 'Target'\n",
    "feature_cols = ['Distance']\n",
    "\n",
    "G = NetworkReader.read_csv(filename=filename, delimeter=delimeter, src_col=src_col, dest_col=dest_col, feature_cols=feature_cols)\n",
    "simplices = G.simplicies(condition=\"distance\", dist_col_name=\"Distance\", dist_threshold=1.5)\n",
    "\n",
    "# if coordinates exist\n",
    "filename = data_folder + '/coordinates.csv'\n",
    "coordinates = NetworkReader.get_coordinates(filename=filename, \n",
    "                                            node_id_col=\"Id\", \n",
    "                                            x_col='X', \n",
    "                                            y_col='Y', \n",
    "                                            delimeter=\" \")\n",
    "\n",
    "# create sc\n",
    "sc = SimplicialComplexNetwork(simplices=simplices)\n",
    "x = sc.lower_laplacian_matrix(rank=1)\n",
    "x"
   ]
  },
  {
   "cell_type": "code",
   "execution_count": null,
   "metadata": {},
   "outputs": [],
   "source": []
  }
 ],
 "metadata": {
  "kernelspec": {
   "display_name": "thesis_venv",
   "language": "python",
   "name": "python3"
  },
  "language_info": {
   "codemirror_mode": {
    "name": "ipython",
    "version": 3
   },
   "file_extension": ".py",
   "mimetype": "text/x-python",
   "name": "python",
   "nbconvert_exporter": "python",
   "pygments_lexer": "ipython3",
   "version": "3.11.7"
  }
 },
 "nbformat": 4,
 "nbformat_minor": 2
}
