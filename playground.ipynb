{
 "cells": [
  {
   "cell_type": "markdown",
   "metadata": {},
   "source": [
    "### Reading data"
   ]
  },
  {
   "cell_type": "code",
   "execution_count": 1,
   "metadata": {},
   "outputs": [],
   "source": [
    "import pandas as pd\n",
    "from sclibrary.read_data import GraphDataReader\n",
    "\n",
    "data_folder = 'data/london_street'"
   ]
  },
  {
   "cell_type": "markdown",
   "metadata": {},
   "source": [
    "#### Option 1: CSV"
   ]
  },
  {
   "cell_type": "code",
   "execution_count": 2,
   "metadata": {},
   "outputs": [
    {
     "data": {
      "text/plain": [
       "[[3],\n",
       " [7],\n",
       " [9],\n",
       " [18],\n",
       " [23],\n",
       " [25],\n",
       " [38],\n",
       " [44],\n",
       " [45],\n",
       " [39],\n",
       " [27],\n",
       " [24],\n",
       " [20],\n",
       " [12],\n",
       " [8],\n",
       " [6],\n",
       " [1],\n",
       " [16],\n",
       " [35],\n",
       " [40],\n",
       " [46],\n",
       " [42],\n",
       " [37],\n",
       " [28],\n",
       " [30],\n",
       " [33],\n",
       " [34],\n",
       " [26],\n",
       " [36],\n",
       " [48],\n",
       " [43],\n",
       " [47],\n",
       " [57],\n",
       " [60],\n",
       " [66],\n",
       " [4],\n",
       " [10],\n",
       " [13],\n",
       " [11],\n",
       " [15],\n",
       " [17],\n",
       " [5],\n",
       " [21],\n",
       " [32],\n",
       " [31],\n",
       " [51],\n",
       " [50],\n",
       " [49],\n",
       " [54],\n",
       " [55],\n",
       " [52],\n",
       " [59],\n",
       " [61],\n",
       " [58],\n",
       " [62],\n",
       " [64],\n",
       " [65],\n",
       " [69],\n",
       " [56],\n",
       " [2],\n",
       " [14],\n",
       " [19],\n",
       " [22],\n",
       " [29],\n",
       " [41],\n",
       " [53],\n",
       " [63],\n",
       " [70],\n",
       " [68],\n",
       " [72],\n",
       " [74],\n",
       " [75],\n",
       " [71],\n",
       " [73],\n",
       " [67],\n",
       " [80],\n",
       " [78],\n",
       " [77],\n",
       " [76],\n",
       " [81],\n",
       " [82],\n",
       " [79],\n",
       " [3, 7],\n",
       " [3, 6],\n",
       " [7, 9],\n",
       " [7, 8],\n",
       " [9, 18],\n",
       " [9, 12],\n",
       " [18, 23],\n",
       " [18, 20],\n",
       " [23, 25],\n",
       " [23, 24],\n",
       " [25, 38],\n",
       " [25, 27],\n",
       " [38, 44],\n",
       " [38, 39],\n",
       " [44, 45],\n",
       " [45, 40],\n",
       " [45, 46],\n",
       " [39, 35],\n",
       " [39, 40],\n",
       " [27, 24],\n",
       " [27, 35],\n",
       " [27, 28],\n",
       " [24, 20],\n",
       " [24, 26],\n",
       " [24, 36],\n",
       " [24, 21],\n",
       " [20, 16],\n",
       " [12, 8],\n",
       " [12, 16],\n",
       " [8, 6],\n",
       " [8, 10],\n",
       " [6, 1],\n",
       " [1, 4],\n",
       " [16, 21],\n",
       " [35, 37],\n",
       " [40, 42],\n",
       " [46, 42],\n",
       " [46, 48],\n",
       " [46, 60],\n",
       " [42, 37],\n",
       " [37, 28],\n",
       " [28, 30],\n",
       " [28, 36],\n",
       " [30, 33],\n",
       " [30, 26],\n",
       " [33, 34],\n",
       " [33, 26],\n",
       " [34, 5],\n",
       " [34, 32],\n",
       " [34, 52],\n",
       " [36, 43],\n",
       " [48, 43],\n",
       " [48, 47],\n",
       " [48, 57],\n",
       " [43, 47],\n",
       " [47, 56],\n",
       " [57, 60],\n",
       " [57, 66],\n",
       " [66, 65],\n",
       " [66, 69],\n",
       " [4, 10],\n",
       " [10, 13],\n",
       " [13, 11],\n",
       " [13, 15],\n",
       " [11, 15],\n",
       " [11, 17],\n",
       " [15, 21],\n",
       " [17, 32],\n",
       " [17, 14],\n",
       " [17, 22],\n",
       " [5, 2],\n",
       " [32, 31],\n",
       " [32, 51],\n",
       " [31, 50],\n",
       " [31, 22],\n",
       " [31, 29],\n",
       " [51, 50],\n",
       " [51, 55],\n",
       " [51, 52],\n",
       " [50, 49],\n",
       " [50, 54],\n",
       " [49, 41],\n",
       " [49, 53],\n",
       " [54, 55],\n",
       " [54, 53],\n",
       " [55, 59],\n",
       " [52, 58],\n",
       " [59, 61],\n",
       " [59, 63],\n",
       " [61, 58],\n",
       " [61, 62],\n",
       " [61, 64],\n",
       " [61, 65],\n",
       " [61, 56],\n",
       " [58, 62],\n",
       " [62, 64],\n",
       " [64, 78],\n",
       " [65, 69],\n",
       " [69, 76],\n",
       " [69, 79],\n",
       " [2, 14],\n",
       " [14, 19],\n",
       " [19, 22],\n",
       " [19, 29],\n",
       " [22, 29],\n",
       " [29, 41],\n",
       " [41, 53],\n",
       " [53, 70],\n",
       " [63, 68],\n",
       " [63, 67],\n",
       " [70, 68],\n",
       " [70, 72],\n",
       " [68, 71],\n",
       " [68, 67],\n",
       " [72, 74],\n",
       " [74, 75],\n",
       " [74, 71],\n",
       " [75, 73],\n",
       " [75, 80],\n",
       " [71, 73],\n",
       " [73, 67],\n",
       " [80, 78],\n",
       " [80, 82],\n",
       " [78, 77],\n",
       " [78, 82],\n",
       " [77, 76],\n",
       " [77, 81],\n",
       " [76, 79],\n",
       " [81, 82],\n",
       " [81, 79],\n",
       " [30, 33, 26],\n",
       " [48, 43, 47],\n",
       " [66, 65, 69],\n",
       " [13, 11, 15],\n",
       " [31, 22, 29],\n",
       " [49, 41, 53],\n",
       " [61, 58, 62],\n",
       " [61, 62, 64],\n",
       " [69, 76, 79],\n",
       " [19, 22, 29],\n",
       " [63, 68, 67],\n",
       " [80, 78, 82]]"
      ]
     },
     "execution_count": 2,
     "metadata": {},
     "output_type": "execute_result"
    }
   ],
   "source": [
    "# read csv\n",
    "filename = data_folder + '/LondonEdges.csv'\n",
    "G = GraphDataReader.read_csv(filename=filename, delimeter=\" \", src_col='Source', dest_col='Target', weight_col='distance')\n",
    "simplices = G.simplicies\n",
    "simplices"
   ]
  },
  {
   "cell_type": "markdown",
   "metadata": {},
   "source": [
    "#### Option 2: Incidence matrices, B1 & B2"
   ]
  },
  {
   "cell_type": "code",
   "execution_count": 108,
   "metadata": {},
   "outputs": [
    {
     "data": {
      "text/plain": [
       "[[0],\n",
       " [1],\n",
       " [2],\n",
       " [3],\n",
       " [4],\n",
       " [0, 1],\n",
       " [0, 2],\n",
       " [1, 2],\n",
       " [1, 3],\n",
       " [1, 4],\n",
       " [2, 3],\n",
       " [3, 4],\n",
       " [0, 1, 2],\n",
       " [1, 2, 3],\n",
       " [1, 3, 4]]"
      ]
     },
     "execution_count": 108,
     "metadata": {},
     "output_type": "execute_result"
    }
   ],
   "source": [
    "# read B1, B2\n",
    "B1_filename = f'{data_folder}/B1.csv'\n",
    "B2_filename = f'{data_folder}/B2.csv'\n",
    "G = GraphDataReader.read_incidence_matrix(B1_filename, B2_filename)\n",
    "simplices = G.simplicies\n",
    "simplices"
   ]
  },
  {
   "cell_type": "markdown",
   "metadata": {},
   "source": [
    "### Simplical Complex Analysis"
   ]
  },
  {
   "cell_type": "code",
   "execution_count": 3,
   "metadata": {},
   "outputs": [
    {
     "data": {
      "text/plain": [
       "array([[ 2.,  1.,  0., ...,  0.,  0.,  0.],\n",
       "       [ 1.,  2.,  0., ...,  0.,  0.,  0.],\n",
       "       [ 0.,  0.,  2., ...,  0.,  0.,  0.],\n",
       "       ...,\n",
       "       [ 0.,  0.,  0., ...,  2.,  0., -1.],\n",
       "       [ 0.,  0.,  0., ...,  0.,  3.,  1.],\n",
       "       [ 0.,  0.,  0., ..., -1.,  1.,  2.]], dtype=float32)"
      ]
     },
     "execution_count": 3,
     "metadata": {},
     "output_type": "execute_result"
    }
   ],
   "source": [
    "from sclibrary.simplicial_complex import SimplicialComplexNetwork\n",
    "\n",
    "sc = SimplicialComplexNetwork(simplices, pos=None)\n",
    "L1 = sc.hodge_laplacian_matrix(rank=1)\n",
    "L1L = sc.lower_laplacian_matrix(rank=1)\n",
    "L1U = sc.upper_laplacian_matrix(rank=1)\n",
    "L1"
   ]
  },
  {
   "cell_type": "markdown",
   "metadata": {},
   "source": [
    "### Eigendecompostion"
   ]
  },
  {
   "cell_type": "code",
   "execution_count": 117,
   "metadata": {},
   "outputs": [],
   "source": [
    "import numpy as np\n",
    "from sclibrary.eigendecomposition import get_harmonic_eigenvectors, get_curl_eigenvectors, get_gradient_eigenvectors\n",
    "\n",
    "u_h, eigenvecs_h = get_harmonic_eigenvectors(L1)\n",
    "u_c, eigenvecs_c = get_curl_eigenvectors(L1U)\n",
    "u_g, eigenvecs_g = get_gradient_eigenvectors(L1L)"
   ]
  },
  {
   "cell_type": "code",
   "execution_count": 19,
   "metadata": {},
   "outputs": [
    {
     "data": {
      "text/plain": [
       "array([[1.00000e+00, 2.00000e+00, 4.00000e+00, 8.00000e+00, 1.60000e+01,\n",
       "        3.20000e+01, 6.40000e+01, 1.28000e+02, 2.56000e+02, 5.12000e+02],\n",
       "       [1.00000e+00, 2.00000e+00, 4.00000e+00, 8.00000e+00, 1.60000e+01,\n",
       "        3.20000e+01, 6.40000e+01, 1.28000e+02, 2.56000e+02, 5.12000e+02],\n",
       "       [1.00000e+00, 3.00000e+00, 9.00000e+00, 2.70000e+01, 8.10000e+01,\n",
       "        2.43000e+02, 7.29000e+02, 2.18700e+03, 6.56100e+03, 1.96830e+04],\n",
       "       [1.00000e+00, 4.00000e+00, 1.60000e+01, 6.40000e+01, 2.56000e+02,\n",
       "        1.02400e+03, 4.09600e+03, 1.63840e+04, 6.55360e+04, 2.62144e+05],\n",
       "       [1.00000e+00, 3.00000e+00, 9.00000e+00, 2.70000e+01, 8.10000e+01,\n",
       "        2.43000e+02, 7.29000e+02, 2.18700e+03, 6.56100e+03, 1.96830e+04],\n",
       "       [1.00000e+00, 3.00000e+00, 9.00000e+00, 2.70000e+01, 8.10000e+01,\n",
       "        2.43000e+02, 7.29000e+02, 2.18700e+03, 6.56100e+03, 1.96830e+04],\n",
       "       [1.00000e+00, 3.00000e+00, 9.00000e+00, 2.70000e+01, 8.10000e+01,\n",
       "        2.43000e+02, 7.29000e+02, 2.18700e+03, 6.56100e+03, 1.96830e+04]],\n",
       "      dtype=float32)"
      ]
     },
     "execution_count": 19,
     "metadata": {},
     "output_type": "execute_result"
    }
   ],
   "source": [
    "L = 10\n",
    "lam_l = np.diag(L1)\n",
    "Phi_G = np.array([lam_l ** (l - 1) for l in range(1, L + 1)]).T\n",
    "Phi_G"
   ]
  },
  {
   "cell_type": "markdown",
   "metadata": {},
   "source": [
    "### Extra"
   ]
  },
  {
   "cell_type": "code",
   "execution_count": 24,
   "metadata": {},
   "outputs": [
    {
     "data": {
      "text/plain": [
       "array([[ 4.99989013e-01,  2.52210576e-02, -8.41018630e-03,\n",
       "        -8.41018630e-03, -8.41018630e-03,  4.01874218e-04,\n",
       "         4.01874218e-04],\n",
       "       [ 2.52210576e-02,  4.99989013e-01,  2.52210576e-02,\n",
       "         4.01874218e-04,  4.01874218e-04, -8.41018630e-03,\n",
       "         4.01874218e-04],\n",
       "       [-8.41018630e-03,  2.52210576e-02,  4.99989013e-01,\n",
       "         2.52210576e-02,  2.52210576e-02, -8.41018630e-03,\n",
       "         4.01874218e-04],\n",
       "       [-8.41018630e-03,  4.01874218e-04,  2.52210576e-02,\n",
       "         4.99989013e-01,  2.52210576e-02,  2.52210576e-02,\n",
       "        -8.41018630e-03],\n",
       "       [-8.41018630e-03,  4.01874218e-04,  2.52210576e-02,\n",
       "         2.52210576e-02,  4.99989013e-01,  4.01874218e-04,\n",
       "         2.52210576e-02],\n",
       "       [ 4.01874218e-04, -8.41018630e-03, -8.41018630e-03,\n",
       "         2.52210576e-02,  4.01874218e-04,  4.99989013e-01,\n",
       "        -8.41018630e-03],\n",
       "       [ 4.01874218e-04,  4.01874218e-04,  4.01874218e-04,\n",
       "        -8.41018630e-03,  2.52210576e-02, -8.41018630e-03,\n",
       "         4.99989013e-01]])"
      ]
     },
     "execution_count": 24,
     "metadata": {},
     "output_type": "execute_result"
    }
   ],
   "source": [
    "from scipy.linalg import pinv\n",
    "\n",
    "# Calculate alpha\n",
    "alpha = pinv(Phi_G) @ np.concatenate([np.array([1]), np.zeros(len(lam_l)-1)])\n",
    "\n",
    "# Build the filter\n",
    "H = np.zeros((7, 7))\n",
    "for l in range(1, L+1):\n",
    "    H += alpha[l-1] * L1L**(l-1)\n",
    "    \n",
    "H"
   ]
  },
  {
   "cell_type": "code",
   "execution_count": 137,
   "metadata": {},
   "outputs": [
    {
     "name": "stdout",
     "output_type": "stream",
     "text": [
      "flow [[0.31004]\n",
      " [0.03894]\n",
      " [0.10792]\n",
      " [0.1813 ]\n",
      " [0.45826]\n",
      " [0.18989]\n",
      " [0.53967]]\n",
      "flow_h [[ 0.18668]\n",
      " [-0.67182]\n",
      " [-0.24841]\n",
      " [ 0.21872]\n",
      " [-0.21247]\n",
      " [-0.18961]\n",
      " [ 0.05168]]\n",
      "flow_g [[ 0.18668]\n",
      " [-0.67182]\n",
      " [-0.24841]\n",
      " [ 0.21872]\n",
      " [ 0.21247]\n",
      " [ 0.16781]\n",
      " [-0.18515]]\n",
      "flow_c [[ 0.1434 ]\n",
      " [-0.18961]\n",
      " [-0.05168]\n",
      " [-0.40154]\n",
      " [ 0.37462]\n",
      " [ 0.31004]\n",
      " [ 0.03894]]\n"
     ]
    }
   ],
   "source": [
    "# flow geenration\n",
    "flow = np.random.rand(L1.shape[0], 1)\n",
    "print(\"flow\", flow)\n",
    "# analyze frequency components\n",
    "flow_h = u_h.T @ flow\n",
    "flow_g = u_g.T @ flow\n",
    "flow_c = u_c.T @ flow\n",
    "print(\"flow_h\", flow_h)\n",
    "print(\"flow_g\", flow_g)\n",
    "print(\"flow_c\", flow_c)"
   ]
  },
  {
   "cell_type": "code",
   "execution_count": null,
   "metadata": {},
   "outputs": [],
   "source": []
  }
 ],
 "metadata": {
  "colab": {
   "collapsed_sections": [
    "9-FO_FFTqfqj",
    "ztW-os_4TQ-2",
    "u3JjaZCDTWN8",
    "Ksa7d2pjTO86",
    "ekMofq1duzy3",
    "Gndcntqt69-N",
    "lgnlFVTZ7Bec",
    "tG4ejXt-Gi7j",
    "YHkEUJJRGnTf"
   ],
   "provenance": []
  },
  "gpuClass": "standard",
  "kernelspec": {
   "display_name": "Python 3 (ipykernel)",
   "language": "python",
   "name": "python3"
  },
  "language_info": {
   "codemirror_mode": {
    "name": "ipython",
    "version": 3
   },
   "file_extension": ".py",
   "mimetype": "text/x-python",
   "name": "python",
   "nbconvert_exporter": "python",
   "pygments_lexer": "ipython3",
   "version": "3.11.6"
  }
 },
 "nbformat": 4,
 "nbformat_minor": 4
}
