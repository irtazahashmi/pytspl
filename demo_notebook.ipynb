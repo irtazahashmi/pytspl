{
 "cells": [
  {
   "cell_type": "code",
   "execution_count": 1,
   "metadata": {},
   "outputs": [],
   "source": [
    "from sclibrary.network_reader import NetworkReader\n",
    "from sclibrary.simplicial_complex import SimplicialComplexNetwork\n",
    "from sclibrary.plot import SCPlot\n",
    "import numpy as np\n",
    "import matplotlib.pyplot as plt\n",
    "\n",
    "from sclibrary.eigendecomposition import get_eigendecomposition"
   ]
  },
  {
   "cell_type": "markdown",
   "metadata": {},
   "source": [
    "### Reading data"
   ]
  },
  {
   "cell_type": "code",
   "execution_count": 2,
   "metadata": {},
   "outputs": [],
   "source": [
    "data_folder = 'data/paper_data'\n",
    "\n",
    "# read csv\n",
    "filename = data_folder + '/edges.csv'\n",
    "delimeter = \" \"\n",
    "src_col = 'Source'\n",
    "dest_col = 'Target'\n",
    "feature_cols = ['Distance']\n",
    "\n",
    "G = NetworkReader.read_csv(filename=filename, delimeter=delimeter, \n",
    "                           src_col=src_col, dest_col=dest_col, feature_cols=feature_cols)\n",
    "\n",
    "simplices = G.simplicies(condition=\"distance\", dist_col_name=\"Distance\", dist_threshold=1.5)\n",
    "\n",
    "# coordinates\n",
    "filename = data_folder + '/coordinates.csv'\n",
    "coordinates = NetworkReader.get_coordinates(filename=filename, \n",
    "                                            node_id_col=\"Id\", \n",
    "                                            x_col='X', \n",
    "                                            y_col='Y', \n",
    "                                            delimeter=\" \")\n",
    "\n",
    "\n",
    "# create a simplicial complex network\n",
    "sc = SimplicialComplexNetwork(simplices=simplices)\n",
    "# create a plot\n",
    "scplot = SCPlot(sc, coordinates)"
   ]
  },
  {
   "cell_type": "markdown",
   "metadata": {},
   "source": [
    "### Filters"
   ]
  },
  {
   "cell_type": "code",
   "execution_count": null,
   "metadata": {},
   "outputs": [],
   "source": []
  },
  {
   "cell_type": "code",
   "execution_count": null,
   "metadata": {},
   "outputs": [],
   "source": []
  },
  {
   "cell_type": "code",
   "execution_count": null,
   "metadata": {},
   "outputs": [],
   "source": []
  }
 ],
 "metadata": {
  "colab": {
   "collapsed_sections": [
    "9-FO_FFTqfqj",
    "ztW-os_4TQ-2",
    "u3JjaZCDTWN8",
    "Ksa7d2pjTO86",
    "ekMofq1duzy3",
    "Gndcntqt69-N",
    "lgnlFVTZ7Bec",
    "tG4ejXt-Gi7j",
    "YHkEUJJRGnTf"
   ],
   "provenance": []
  },
  "gpuClass": "standard",
  "kernelspec": {
   "display_name": "Python 3 (ipykernel)",
   "language": "python",
   "name": "python3"
  },
  "language_info": {
   "codemirror_mode": {
    "name": "ipython",
    "version": 3
   },
   "file_extension": ".py",
   "mimetype": "text/x-python",
   "name": "python",
   "nbconvert_exporter": "python",
   "pygments_lexer": "ipython3",
   "version": "3.11.7"
  }
 },
 "nbformat": 4,
 "nbformat_minor": 4
}
