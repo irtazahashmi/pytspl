{
 "cells": [
  {
   "cell_type": "code",
   "execution_count": 59,
   "metadata": {},
   "outputs": [],
   "source": [
    "from sclibrary.network_reader import NetworkReader\n",
    "from sclibrary.simplicial_complex import SimplicialComplexNetwork\n",
    "from sclibrary.plot import SCPlot\n",
    "import numpy as np\n",
    "import matplotlib.pyplot as plt\n",
    "\n",
    "from sclibrary.eigendecomposition import get_eigendecomposition"
   ]
  },
  {
   "cell_type": "markdown",
   "metadata": {},
   "source": [
    "### Reading data"
   ]
  },
  {
   "cell_type": "code",
   "execution_count": 60,
   "metadata": {},
   "outputs": [],
   "source": [
    "data_folder = 'data/paper_data'\n",
    "\n",
    "# read csv\n",
    "filename = data_folder + '/edges.csv'\n",
    "delimeter = \" \"\n",
    "src_col = 'Source'\n",
    "dest_col = 'Target'\n",
    "feature_cols = ['Distance']\n",
    "\n",
    "G = NetworkReader.read_csv(filename=filename, delimeter=delimeter, \n",
    "                           src_col=src_col, dest_col=dest_col, feature_cols=feature_cols)\n",
    "\n",
    "simplices = G.simplicies(condition=\"distance\", dist_col_name=\"Distance\", dist_threshold=1.5)\n",
    "\n",
    "# coordinates\n",
    "filename = data_folder + '/coordinates.csv'\n",
    "coordinates = NetworkReader.get_coordinates(filename=filename, \n",
    "                                            node_id_col=\"Id\", \n",
    "                                            x_col='X', \n",
    "                                            y_col='Y', \n",
    "                                            delimeter=\" \")\n",
    "\n",
    "\n",
    "# create a simplicial complex network\n",
    "sc = SimplicialComplexNetwork(simplices=simplices)\n",
    "scplot = SCPlot(sc, coordinates)"
   ]
  },
  {
   "cell_type": "markdown",
   "metadata": {},
   "source": [
    "### Grid based filter design"
   ]
  },
  {
   "cell_type": "code",
   "execution_count": 107,
   "metadata": {},
   "outputs": [],
   "source": [
    "f0 = np.array([\n",
    "    2.25,\n",
    "    0.13,\n",
    "    1.72,\n",
    "    -2.12,\n",
    "    1.59,\n",
    "    1.08,\n",
    "    -0.30,\n",
    "    -0.21,\n",
    "    1.25,\n",
    "    1.45,\n",
    "])\n",
    "\n",
    "f = np.array([\n",
    "    2.90,\n",
    "    0.25, \n",
    "    1.78,\n",
    "    -1.50,\n",
    "    1.76,\n",
    "    1.53,\n",
    "    1.32,\n",
    "    0.08,\n",
    "    0.67, \n",
    "    1.73\n",
    "])\n"
   ]
  },
  {
   "cell_type": "code",
   "execution_count": 108,
   "metadata": {},
   "outputs": [],
   "source": [
    "L1 = sc.hodge_laplacian_matrix(rank=1)\n",
    "u_1, eigenvals_u1 = get_eigendecomposition(L1)"
   ]
  },
  {
   "cell_type": "code",
   "execution_count": 109,
   "metadata": {},
   "outputs": [
    {
     "data": {
      "text/plain": [
       "array([ 0.05882426, -0.32941538,  0.14631812, -0.38823965,  0.4757335 ,\n",
       "        0.49026405, -0.30516876,  0.31969932,  0.12266404, -0.19703528])"
      ]
     },
     "execution_count": 109,
     "metadata": {},
     "output_type": "execute_result"
    }
   ],
   "source": [
    "# approzimate largest true eigenvalue using power iteration method\n",
    "# power iteration\n",
    "v = np.ones(L1.shape[0])\n",
    "for i in range(50):\n",
    "    v = L1 @ v\n",
    "    v = v / np.linalg.norm(v)\n",
    "v"
   ]
  },
  {
   "cell_type": "markdown",
   "metadata": {},
   "source": [
    "#### Chebyshev"
   ]
  },
  {
   "cell_type": "code",
   "execution_count": 39,
   "metadata": {},
   "outputs": [
    {
     "name": "stdout",
     "output_type": "stream",
     "text": [
      "[ 0.2851 -0.8824 -1.3731  1.2467 -0.905   0.7202  0.5628 -1.1828  1.3918\n",
      "  0.8425]\n",
      "[-0.64 -0.31 -1.02  0.32 -0.71  0.17  1.11 -0.24  1.    1.24]\n"
     ]
    }
   ],
   "source": [
    "f = np.array([\n",
    "    0.2851,\n",
    "    -0.8824,\n",
    "    -1.3731,\n",
    "    1.2467,\n",
    "    -0.9050,\n",
    "    0.7202,\n",
    "    0.5628,\n",
    "    -1.1828,\n",
    "    1.3918,\n",
    "    0.8425\n",
    "])\n",
    "\n",
    "_, _, f_g = sc.get_hodgedecomposition(flow=f)\n",
    "\n",
    "print(f)\n",
    "print(f_g)"
   ]
  },
  {
   "cell_type": "code",
   "execution_count": 13,
   "metadata": {},
   "outputs": [
    {
     "name": "stdout",
     "output_type": "stream",
     "text": [
      "v [ 0.05882426 -0.32941538  0.14631812 -0.38823965  0.4757335   0.49026405\n",
      " -0.30516876  0.31969932  0.12266404 -0.19703528]\n",
      "lamda_g_max 5.4879826825028015\n"
     ]
    }
   ],
   "source": [
    "# estimate largest eigenvalue using power iteration method\n",
    "v = np.ones(L1L.shape[0])\n",
    "for i in range(50):\n",
    "    v = L1L @ v\n",
    "    v = v / np.linalg.norm(v)\n",
    "\n",
    "print(\"v\", v)\n",
    "# mean of the largest eigenvalue\n",
    "lamda_g_max = np.mean(L1L @ v / v)\n",
    "print(\"lamda_g_max\", lamda_g_max)"
   ]
  },
  {
   "cell_type": "code",
   "execution_count": 14,
   "metadata": {},
   "outputs": [
    {
     "data": {
      "text/plain": [
       "array([ 9.75247591e-01,  4.93662867e-02, -4.89526174e-02,  4.82695494e-02,\n",
       "       -4.73265143e-02,  4.61364404e-02, -4.47154865e-02,  4.30827118e-02,\n",
       "       -4.12596907e-02,  3.92700846e-02, -3.71391788e-02,  3.48933998e-02,\n",
       "       -3.25598222e-02,  3.01656793e-02, -2.77378881e-02,  2.53025993e-02,\n",
       "       -2.28847825e-02,  2.05078542e-02, -1.81933560e-02,  1.59606882e-02,\n",
       "       -1.38269010e-02,  1.18065464e-02, -9.91158923e-03,  8.15137767e-03,\n",
       "       -6.53266749e-03,  5.05969801e-03, -3.73431303e-03,  2.55612109e-03,\n",
       "       -1.52268809e-03,  6.29755249e-04,  1.28524641e-04, -7.59339874e-04,\n",
       "        1.27096795e-03, -1.67252543e-03,  1.97372507e-03, -2.18464518e-03,\n",
       "        2.31551510e-03, -2.37652027e-03,  2.37762901e-03, -2.32844289e-03,\n",
       "        2.23807127e-03, -2.11503022e-03,  1.96716531e-03, -1.80159715e-03,\n",
       "        1.62468822e-03, -1.44202913e-03,  1.25844209e-03, -1.07799955e-03,\n",
       "        9.04055321e-04, -7.39286150e-04,  5.85741170e-04, -4.44897225e-04,\n",
       "        3.17717934e-04, -2.04714708e-04,  1.06008056e-04, -2.13878131e-05,\n",
       "       -4.96289129e-05,  1.07742998e-04, -1.53822503e-04,  1.88856336e-04,\n",
       "       -2.13912725e-04,  2.30102655e-04, -2.38548321e-04,  2.40356480e-04,\n",
       "       -2.36596528e-04,  2.28283010e-04, -2.16362240e-04,  2.01702658e-04,\n",
       "       -1.85088514e-04,  1.67216468e-04, -1.48694709e-04,  1.30044171e-04,\n",
       "       -1.11701478e-04,  9.40232580e-05, -7.72914950e-05,  6.17196213e-05,\n",
       "       -4.74590936e-05,  3.46062183e-05, -2.32090351e-05,  1.32740944e-05,\n",
       "       -4.77300001e-06, -2.35138718e-06,  8.17916001e-06, -1.28080425e-05,\n",
       "        1.63485661e-05, -1.89197588e-05,  2.06453446e-05, -2.16504411e-05,\n",
       "        2.20587286e-05, -2.19900615e-05,  2.15584828e-05, -2.08706010e-05,\n",
       "        2.00242866e-05, -1.91076459e-05,  1.81982281e-05, -1.73624278e-05,\n",
       "        1.66550456e-05, -1.61189753e-05,  1.57849890e-05, -7.83580024e-06])"
      ]
     },
     "execution_count": 14,
     "metadata": {},
     "output_type": "execute_result"
    }
   ],
   "source": [
    "from chebpy import chebfun\n",
    "\n",
    "# cut off frequency - gradient\n",
    "cut_off_freq_g = 0.01\n",
    "steep = 100\n",
    "# logistic function to perform gradient component extraction\n",
    "g_g = lambda lam: 1 / (1 + np.exp(-steep * (lam - cut_off_freq_g)))\n",
    "g_g_cheb = chebfun(g_g, [0, lambda_max], 100)\n",
    "# filter coefficients\n",
    "coeffs_g = g_g_cheb.funs[0].coeffs\n",
    "coeffs_g"
   ]
  },
  {
   "cell_type": "code",
   "execution_count": 15,
   "metadata": {},
   "outputs": [
    {
     "data": {
      "text/plain": [
       "Text(0.5, 1.0, 'Frequency response on the gradient eigen_values - chebyshev approx.')"
      ]
     },
     "execution_count": 15,
     "metadata": {},
     "output_type": "execute_result"
    },
    {
     "data": {
      "image/png": "[encoded data removed]",
      "text/plain": [
       "<Figure size 1500x500 with 1 Axes>"
      ]
     },
     "metadata": {},
     "output_type": "display_data"
    },
    {
     "data": {
      "image/png": "[encoded data removed]",
      "text/plain": [
       "<Figure size 1500x500 with 1 Axes>"
      ]
     },
     "metadata": {},
     "output_type": "display_data"
    }
   ],
   "source": [
    "# plot the continuous frequency response \n",
    "plt.figure(figsize=(15, 5))\n",
    "plt.scatter(eigenvals_u1L, g_g(eigenvals_u1L))\n",
    "plt.title(\"Frequency response on the gradient eigenvals\")\n",
    "\n",
    "plt.figure(figsize=(15, 5))\n",
    "plt.scatter(eigenvals_u1L, g_g_cheb(eigenvals_u1L))\n",
    "plt.title(\"Frequency response on the gradient eigen_values - chebyshev approx.\")"
   ]
  },
  {
   "cell_type": "code",
   "execution_count": 28,
   "metadata": {},
   "outputs": [
    {
     "name": "stdout",
     "output_type": "stream",
     "text": [
      "difference 1.913538576985806\n"
     ]
    },
    {
     "data": {
      "text/plain": [
       "<matplotlib.collections.PathCollection at 0x14c005790>"
      ]
     },
     "execution_count": 28,
     "metadata": {},
     "output_type": "execute_result"
    },
    {
     "data": {
      "image/png": "[encoded data removed]",
      "text/plain": [
       "<Figure size 1500x500 with 1 Axes>"
      ]
     },
     "metadata": {},
     "output_type": "display_data"
    }
   ],
   "source": [
    "component = \"gradient\"\n",
    "\n",
    "# the ideal frequency response\n",
    "u_g, _ = sc.get_eigendecomposition(component)\n",
    "h_g_ideal = sc.get_component_coefficients(component)\n",
    "H_g_ideal = u_1L @ np.diag(h_g_ideal) @ u_1L.T\n",
    "\n",
    "# difference \n",
    "print(\"difference\", np.linalg.norm(H_g_ideal - u_g @ u_g.T))\n",
    "\n",
    "# pplo the ideal frequency response\n",
    "plt.figure(figsize=(15, 5))\n",
    "plt.scatter(eigenvals_u1L, h_g_ideal)"
   ]
  },
  {
   "cell_type": "code",
   "execution_count": 29,
   "metadata": {},
   "outputs": [
    {
     "name": "stdout",
     "output_type": "stream",
     "text": [
      "points transformation\n",
      "[-1.         -1.         -1.         -1.         -0.70322456 -0.15159749\n",
      "  0.20769609  0.31126123  0.62446925  1.00004833]\n"
     ]
    },
    {
     "data": {
      "text/plain": [
       "array([0.26894142, 0.26894142, 0.26894142, 0.26894142, 1.0000044 ,\n",
       "       1.00000725, 1.00000182, 0.99999437, 1.00000262, 0.99999996])"
      ]
     },
     "execution_count": 29,
     "metadata": {},
     "output_type": "execute_result"
    }
   ],
   "source": [
    "# perform a transformation to shit the domain to [0, lambda_g_max]\n",
    "alpha_g = lamda_g_max / 2\n",
    "points = (eigenvals_u1L - alpha_g) / alpha_g\n",
    "\n",
    "def chebychev_approx(points, coeffs_g):\n",
    "    # create a chebyshev polynomial approx\n",
    "    # approx_vals = g_g_cheb(points)\n",
    "    # return approx_vals\n",
    "    approx_vals = np.polynomial.chebyshev.chebval(x=points, c=coeffs_g)\n",
    "    return approx_vals\n",
    "    \n",
    "# domain [-1, 1]\n",
    "print(\"points transformation\")\n",
    "print(points)\n",
    "# domain [0, lamda_max]\n",
    "chebychev_approx(points, coeffs_g)"
   ]
  },
  {
   "cell_type": "code",
   "execution_count": 40,
   "metadata": {},
   "outputs": [
    {
     "data": {
      "text/plain": [
       "array([9.83372453e-01, 1.02226670e+00, 9.96762951e-01, 1.00739176e+00,\n",
       "       9.97567711e-01, 9.99982885e-01, 1.00029197e+00, 9.98905960e-01,\n",
       "       1.00072013e+00, 9.99710894e-01, 4.94999503e+46, 1.00010607e+00,\n",
       "       9.99887092e-01, 1.00007370e+00, 9.99969444e-01, 1.00000236e+00,\n",
       "       1.00000937e+00, 9.99989324e-01, 1.00000231e+00])"
      ]
     },
     "execution_count": 40,
     "metadata": {},
     "output_type": "execute_result"
    }
   ],
   "source": [
    "import numpy as np\n",
    "\n",
    "\n",
    "def filter_cheb_approx(L1L, coeffs_g, alpha_g, k):\n",
    "    # implement the filter approximation\n",
    "    # P0(L1L) = I\n",
    "    # P1(L1L) = (2 / lamda_g_max) * L1L - I\n",
    "    # Pl(L1L) = 2 * P1 (L1L) * Pl-1 (L1L) - Pl-2 (L1L)\n",
    "    \n",
    "    # Hl = (1/2) * cl,0 * I + sum(cl,i * Pl(L1L))\n",
    "    #print(L1L.shape)\n",
    "    #print(coeffs_g.shape)\n",
    "    el = L1L.flatten()[k]\n",
    "    res = coeffs_g[k] * np.polynomial.chebyshev.chebval(el, c=coeffs_g)\n",
    "    return res\n",
    "\n",
    "# truncated order \n",
    "K_trunc = range(5, 100, 5)\n",
    "\n",
    "H_g_cheb_approx_out = np.zeros((len(K_trunc), L1L.shape[0], L1L.shape[1]))\n",
    "\n",
    "for k in range(len(K_trunc)):\n",
    "    x = filter_cheb_approx(L1L, coeffs_g, alpha_g, K_trunc[k])\n",
    "    H_g_cheb_approx_out[k:, :, :] = x\n",
    "\n",
    "errors_g_response = np.zeros((len(K_trunc)))\n",
    "errors_filter = np.zeros((len(K_trunc)))\n",
    "\n",
    "f_g_cheb = np.zeros((L1L.shape[0], len(K_trunc)))\n",
    "f_g_cheb_tilde = np.zeros((L1L.shape[0], len(K_trunc)))\n",
    "\n",
    "error_g_tilde = np.zeros((len(K_trunc)))\n",
    "error_g = np.zeros((len(K_trunc)))\n",
    "\n",
    "for k in range(len(K_trunc)):\n",
    "    g_g_cheb_approx = np.diag(u_1L.T @ np.squeeze(H_g_cheb_approx_out[k, :, :]) @ u_1L)\n",
    "    # compute the error\n",
    "    errors_g_response[k] = np.linalg.norm(g_g_cheb_approx - h_g_ideal) / np.linalg.norm(h_g_ideal)\n",
    "    errors_filter[k] = np.linalg.norm(np.squeeze(H_g_cheb_approx_out[k, :, :]) - H_g_ideal, 2)\n",
    "    \n",
    "    f_g_cheb[:, k] = np.squeeze(H_g_cheb_approx_out[k, :, :]) @ f\n",
    "    f_g_cheb_tilde[:, k] = u_1 @ f_g_cheb[:, k]\n",
    "    \n",
    "    error_g_tilde[k] = np.linalg.norm(f_g_cheb_tilde[:, k] - u_1.T * f_g) / np.linalg.norm(u_1.T * f_g)\n",
    "    error_g[k] = np.linalg.norm(f_g_cheb[:, k] - f_g) / np.linalg.norm(f_g)\n",
    "    \n",
    "errors_g_response"
   ]
  },
  {
   "cell_type": "code",
   "execution_count": 43,
   "metadata": {},
   "outputs": [
    {
     "data": {
      "text/plain": [
       "array([9.95888211e-01, 1.00457471e+00, 9.99283571e-01, 1.00157221e+00,\n",
       "       9.99463700e-01, 9.99996265e-01, 1.00006363e+00, 9.99760194e-01,\n",
       "       1.00015668e+00, 9.99936843e-01, 1.84372386e+46, 1.00002313e+00,\n",
       "       9.99975352e-01, 1.00001608e+00, 9.99993332e-01, 1.00000052e+00,\n",
       "       1.00000204e+00, 9.99997671e-01, 1.00000050e+00])"
      ]
     },
     "execution_count": 43,
     "metadata": {},
     "output_type": "execute_result"
    }
   ],
   "source": [
    "error_g"
   ]
  },
  {
   "cell_type": "code",
   "execution_count": 31,
   "metadata": {},
   "outputs": [
    {
     "data": {
      "text/plain": [
       "-0.6355673631448309"
      ]
     },
     "execution_count": 31,
     "metadata": {},
     "output_type": "execute_result"
    }
   ],
   "source": [
    "from chebpy import chebfun\n",
    "\n",
    "f = lambda x: (2 / lamda_g_max) * x - 1\n",
    "g = chebfun(f, n = 2)\n",
    "g.funs[0](1)"
   ]
  },
  {
   "cell_type": "code",
   "execution_count": null,
   "metadata": {},
   "outputs": [],
   "source": []
  },
  {
   "cell_type": "code",
   "execution_count": null,
   "metadata": {},
   "outputs": [],
   "source": []
  }
 ],
 "metadata": {
  "colab": {
   "collapsed_sections": [
    "9-FO_FFTqfqj",
    "ztW-os_4TQ-2",
    "u3JjaZCDTWN8",
    "Ksa7d2pjTO86",
    "ekMofq1duzy3",
    "Gndcntqt69-N",
    "lgnlFVTZ7Bec",
    "tG4ejXt-Gi7j",
    "YHkEUJJRGnTf"
   ],
   "provenance": []
  },
  "gpuClass": "standard",
  "kernelspec": {
   "display_name": "Python 3 (ipykernel)",
   "language": "python",
   "name": "python3"
  },
  "language_info": {
   "codemirror_mode": {
    "name": "ipython",
    "version": 3
   },
   "file_extension": ".py",
   "mimetype": "text/x-python",
   "name": "python",
   "nbconvert_exporter": "python",
   "pygments_lexer": "ipython3",
   "version": "3.11.7"
  }
 },
 "nbformat": 4,
 "nbformat_minor": 4
}
