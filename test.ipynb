{
 "cells": [
  {
   "cell_type": "code",
   "execution_count": 1,
   "metadata": {},
   "outputs": [],
   "source": [
    "\n",
    "import numpy as np\n",
    "from sclibrary import dataset_loader\n",
    "from sclibrary import SCPlot\n",
    "\n",
    "sc, coordinates = dataset_loader.load_paper_data()\n",
    "\n",
    "# create a plot\n",
    "scplot = SCPlot(sc, coordinates)"
   ]
  },
  {
   "cell_type": "code",
   "execution_count": 3,
   "metadata": {},
   "outputs": [],
   "source": [
    "L1 = sc.hodge_laplacian_matrix(rank=1).toarray()\n",
    "L1u = sc.upper_laplacian_matrix(rank=1).toarray()\n",
    "Le = sc.lower_laplacian_matrix(rank=1).toarray()"
   ]
  },
  {
   "cell_type": "code",
   "execution_count": 4,
   "metadata": {},
   "outputs": [],
   "source": [
    "from sclibrary.utils.eigendecomposition import get_eigendecomposition\n",
    "u1, eigenvals = get_eigendecomposition(L1)\n",
    "u1L, eigenvalsL = get_eigendecomposition(Le)\n",
    "u1u, eigenvalsu = get_eigendecomposition(L1u)"
   ]
  },
  {
   "cell_type": "code",
   "execution_count": 5,
   "metadata": {},
   "outputs": [
    {
     "data": {
      "text/plain": [
       "array([[ 0.06889728,  0.13607139,  0.5       , -0.48619685,  0.        ,\n",
       "         0.09433983,  0.46687335, -0.35355339, -0.36745652, -0.05878212],\n",
       "       [ 0.13779456, -0.18544569,  0.        , -0.06525469,  0.        ,\n",
       "         0.31280028,  0.10648241,  0.70710678, -0.47395312,  0.32946974],\n",
       "       [-0.20669185, -0.29740454, -0.5       ,  0.3267199 ,  0.        ,\n",
       "         0.02961399,  0.27923198, -0.35355339, -0.53557877, -0.1462567 ],\n",
       "       [ 0.06889728, -0.32151708,  0.5       ,  0.42094216,  0.        ,\n",
       "         0.21846044, -0.36039095, -0.35355339, -0.10649659,  0.38825186],\n",
       "       [-0.34448641, -0.11195885,  0.5       ,  0.39197459,  0.        ,\n",
       "        -0.28318629,  0.17274957,  0.35355339, -0.06162565, -0.47572643],\n",
       "       [ 0.55117825, -0.59076521,  0.        , -0.10910526,  0.        ,\n",
       "         0.21460989,  0.04279641,  0.        ,  0.21684759, -0.49028892],\n",
       "       [-0.55117825, -0.51395109,  0.        , -0.26664402,  0.        ,\n",
       "         0.08504378,  0.29986768,  0.        ,  0.4131654 ,  0.30512138],\n",
       "       [-0.36745217,  0.03514474,  0.        , -0.23443583,  0.57735027,\n",
       "         0.4127524 , -0.42982084,  0.        , -0.13469216, -0.31968387],\n",
       "       [-0.18372608, -0.23514785,  0.        , -0.39679702, -0.57735027,\n",
       "        -0.27091977, -0.50137606,  0.        , -0.28346964, -0.12263153],\n",
       "       [ 0.18372608, -0.27029259,  0.        , -0.16236119,  0.57735027,\n",
       "        -0.68367217, -0.07155522,  0.        , -0.14877749,  0.19705234]])"
      ]
     },
     "execution_count": 5,
     "metadata": {},
     "output_type": "execute_result"
    }
   ],
   "source": [
    "u1"
   ]
  },
  {
   "cell_type": "code",
   "execution_count": 14,
   "metadata": {},
   "outputs": [],
   "source": [
    "f = u1 @ np.ones(u1.shape[1])\n",
    "f_h = u1 @ sc.get_component_coefficients(component=\"harmonic\")\n",
    "f_g = u1 @ sc.get_component_coefficients(component=\"gradient\")\n",
    "f_c = u1 @ sc.get_component_coefficients(component=\"curl\")"
   ]
  },
  {
   "cell_type": "code",
   "execution_count": 16,
   "metadata": {},
   "outputs": [
    {
     "name": "stdout",
     "output_type": "stream",
     "text": [
      "Filter size: 0 - Error: 0.6324555320336753\n",
      "Filter size: 1 - Error: 0.5956108987452714\n",
      "Filter size: 2 - Error: 0.5946425592258179\n",
      "Filter size: 3 - Error: 0.5760676876125795\n",
      "Filter size: 4 - Error: 0.5496391608198462\n",
      "Filter size: 5 - Error: 0.5311014693141679\n",
      "Filter size: 6 - Error: 0.4919951869407741\n",
      "Filter size: 7 - Error: 0.49062817330043024\n",
      "Filter size: 8 - Error: 0.11842737940382456\n",
      "Filter size: 9 - Error: 1.5608710002763043e-06\n",
      "Filter size: 10 - Error: 1.392164004565205e-06\n",
      "Filter size: 11 - Error: 3.732146492119331e-07\n",
      "Filter size: 12 - Error: 6.363514840969503e-07\n",
      "Filter size: 13 - Error: 3.1334816502647597e-07\n",
      "Filter size: 14 - Error: 8.575767622612958e-07\n",
      "Filter size: 15 - Error: 1.044411185370235e-05\n",
      "Filter size: 16 - Error: 5.8520648981705455e-05\n",
      "Filter size: 17 - Error: 0.000305132980726761\n",
      "Filter size: 18 - Error: 0.0028272804708893316\n",
      "Filter size: 19 - Error: 0.18771791542099436\n",
      "Filter size: 20 - Error: 0.41104036344493966\n",
      "Filter size: 21 - Error: 0.4092251751773657\n",
      "Filter size: 22 - Error: 0.4377662071603051\n",
      "Filter size: 23 - Error: 0.43040411972372883\n",
      "Filter size: 24 - Error: 0.42481292209982774\n",
      "Filter size: 25 - Error: 0.4205988463067801\n",
      "Filter size: 26 - Error: 0.5859660193883195\n",
      "Filter size: 27 - Error: 0.5838361423299184\n",
      "Filter size: 28 - Error: 0.5821639480668385\n",
      "Filter size: 29 - Error: 0.5808863069210382\n",
      "Filter size: 30 - Error: 0.5799280752377574\n",
      "Filter size: 31 - Error: 0.5792181739007584\n",
      "Filter size: 32 - Error: 0.5786970298714665\n",
      "Filter size: 33 - Error: 0.5839711951097755\n",
      "Filter size: 34 - Error: 0.5830096501733774\n",
      "Filter size: 35 - Error: 0.5821629441330831\n",
      "Filter size: 36 - Error: 0.5814249547256648\n",
      "Filter size: 37 - Error: 0.5807852713808568\n",
      "Filter size: 38 - Error: 0.5802410283961873\n",
      "Filter size: 39 - Error: 0.5797680139118672\n",
      "Filter size: 40 - Error: 0.5793751089815301\n",
      "Filter size: 41 - Error: 0.5790393056003733\n",
      "Filter size: 42 - Error: 0.6814456945662151\n",
      "Filter size: 43 - Error: 0.6834650803919443\n",
      "Filter size: 44 - Error: 0.685328905142519\n",
      "Filter size: 45 - Error: 0.6870481935250118\n",
      "Filter size: 46 - Error: 0.6886329254567801\n",
      "Filter size: 47 - Error: 0.6900947075255109\n",
      "Filter size: 48 - Error: 0.6914422262666026\n",
      "Filter size: 49 - Error: 0.6926817269057219\n"
     ]
    }
   ],
   "source": [
    "from sclibrary.filters import LSFilterDesign\n",
    "\n",
    "ls = LSFilterDesign(sc)\n",
    "\n",
    "ls.subcomponent_extraction_type_one(f=f, component=\"gradient\", L=50)"
   ]
  },
  {
   "cell_type": "code",
   "execution_count": 18,
   "metadata": {},
   "outputs": [
    {
     "name": "stdout",
     "output_type": "stream",
     "text": [
      "Filter size: 0 - Error: 0.7142857142857134\n",
      "Filter size: 1 - Error: 0.4564354645876381\n",
      "Filter size: 2 - Error: 0.2838953890353672\n",
      "Filter size: 3 - Error: 0.13497761822032994\n",
      "Filter size: 4 - Error: 0.04173370294665379\n",
      "Filter size: 5 - Error: 0.0029883850147950346\n",
      "Filter size: 6 - Error: 2.4246260709374354e-12\n",
      "Filter size: 7 - Error: 1.6490021568543975e-11\n",
      "Filter size: 8 - Error: 8.000352454161464e-11\n",
      "Filter size: 9 - Error: 2.1053322935212313e-10\n",
      "Filter size: 10 - Error: 1.6578709006739788e-09\n",
      "Filter size: 11 - Error: 1.3048665023637588e-08\n",
      "Filter size: 12 - Error: 3.533749080764176e-08\n",
      "Filter size: 13 - Error: 2.0790454316158968e-07\n",
      "Filter size: 14 - Error: 1.4866792571436916e-06\n",
      "Filter size: 15 - Error: 4.8094484231498216e-06\n",
      "Filter size: 16 - Error: 3.539939721337782e-05\n",
      "Filter size: 17 - Error: 0.0003056012833850979\n",
      "Filter size: 18 - Error: 0.0016568045369564643\n",
      "Filter size: 19 - Error: 0.2991603025240874\n",
      "Filter size: 20 - Error: 0.4082469586928006\n",
      "Filter size: 21 - Error: 0.40824781995595116\n",
      "Filter size: 22 - Error: 0.40824812869849\n",
      "Filter size: 23 - Error: 0.40824823260706417\n",
      "Filter size: 24 - Error: 0.4082483000703878\n",
      "Filter size: 25 - Error: 0.40824849850513917\n",
      "Filter size: 26 - Error: 0.40824789313950205\n",
      "Filter size: 27 - Error: 0.40825037526947505\n",
      "Filter size: 28 - Error: 0.4082476924909307\n",
      "Filter size: 29 - Error: 0.40824268782930145\n",
      "Filter size: 30 - Error: 0.4082603037521329\n",
      "Filter size: 31 - Error: 0.5771711041992488\n",
      "Filter size: 32 - Error: 0.5772230419387439\n",
      "Filter size: 33 - Error: 0.577260017548639\n",
      "Filter size: 34 - Error: 0.5772862452770741\n",
      "Filter size: 35 - Error: 0.5773050309529081\n",
      "Filter size: 36 - Error: 0.5773181866583067\n",
      "Filter size: 37 - Error: 0.577327484623471\n",
      "Filter size: 38 - Error: 0.577334509542536\n",
      "Filter size: 39 - Error: 0.5773383194538716\n",
      "Filter size: 40 - Error: 0.5773427636333267\n",
      "Filter size: 41 - Error: 0.5773448635227418\n",
      "Filter size: 42 - Error: 0.5773474614216556\n",
      "Filter size: 43 - Error: 0.5773490718678347\n",
      "Filter size: 44 - Error: 0.5773524351194659\n",
      "Filter size: 45 - Error: 0.5773416695133928\n",
      "Filter size: 46 - Error: 0.5773311484665161\n",
      "Filter size: 47 - Error: 0.5773561846774459\n",
      "Filter size: 48 - Error: 0.6987266755589329\n",
      "Filter size: 49 - Error: 0.699390862728771\n"
     ]
    }
   ],
   "source": [
    "ls.subcomponent_extraction_type_two(f=f, component=\"gradient\", L=50)"
   ]
  },
  {
   "cell_type": "code",
   "execution_count": null,
   "metadata": {},
   "outputs": [],
   "source": []
  },
  {
   "cell_type": "code",
   "execution_count": 2,
   "metadata": {},
   "outputs": [],
   "source": [
    "f0 = np.array([-0.0689, -0.1378, 0.2067, -0.0689, 0.3445, -0.5512, 0.5512, 0.3675, 0.1837, -0.1837])\n",
    "f = np.array([-1.4188, 2.8971, 0.9321, -0.1320, 1.0592, -0.7561, 0.4270, 1.8571, 1.5928, 1.2335])"
   ]
  },
  {
   "cell_type": "code",
   "execution_count": 3,
   "metadata": {},
   "outputs": [
    {
     "name": "stdout",
     "output_type": "stream",
     "text": [
      "mu: 0.01, error: 4.13878995554169\n",
      "mu: 0.05, error: 3.6624649566608105\n",
      "mu: 0.1, error: 3.2249814188202164\n",
      "mu: 0.25, error: 2.4457460687536674\n",
      "mu: 0.5, error: 1.8382890906211293\n",
      "mu: 1, error: 1.3366302011773288\n",
      "mu: 2.5, error: 0.9089994065189698\n",
      "mu: 5, error: 0.754349083535742\n",
      "mu: 10, error: 0.6929078089653214\n",
      "mu: 25, error: 0.6705679235314629\n",
      "mu: 50, error: 0.6669087225040363\n",
      "mu: 100, error: 0.6659488364043868\n"
     ]
    }
   ],
   "source": [
    "from sclibrary.filters import EdgeFlowDenoising\n",
    "\n",
    "muvals = [1e-2, 5e-2, 1e-1, 2.5e-1, 5e-1, 1, 2.5, 5, 10, 25, 50, 100]\n",
    "\n",
    "edf = EdgeFlowDenoising(sc)\n",
    "edf.denoise(f=f, f_true=f0, mu_vals=muvals, p_choice=\"L1\")"
   ]
  },
  {
   "cell_type": "code",
   "execution_count": 4,
   "metadata": {},
   "outputs": [
    {
     "data": {
      "text/plain": [
       "array([1.        , 0.01213078, 0.00497512, 0.00427714, 0.00332226,\n",
       "       0.00300851, 0.00277155, 0.00249377, 0.00223837, 0.00181881])"
      ]
     },
     "execution_count": 4,
     "metadata": {},
     "output_type": "execute_result"
    }
   ],
   "source": [
    "edf.history[\"frequency_responses\"][-1]"
   ]
  },
  {
   "cell_type": "code",
   "execution_count": null,
   "metadata": {},
   "outputs": [],
   "source": []
  },
  {
   "cell_type": "code",
   "execution_count": 1,
   "metadata": {},
   "outputs": [],
   "source": [
    "\n",
    "import numpy as np\n",
    "from sclibrary import dataset_loader\n",
    "from sclibrary import SCPlot\n",
    "\n",
    "sc, coordinates = dataset_loader.load_paper_data()\n",
    "\n",
    "# create a plot\n",
    "scplot = SCPlot(sc, coordinates)"
   ]
  },
  {
   "cell_type": "code",
   "execution_count": 2,
   "metadata": {},
   "outputs": [],
   "source": [
    "f0 = np.array([-0.0689, -0.1378, 0.2067, -0.0689, 0.3445, -0.5512, 0.5512, 0.3675, 0.1837, -0.1837])\n",
    "f = np.array([-0.1711, -0.3792, 0.5259, 0.2440, -0.5204, -0.5812, 0.3863, 0.9952, 1.2770, 0.9255])\n"
   ]
  },
  {
   "cell_type": "code",
   "execution_count": 6,
   "metadata": {},
   "outputs": [
    {
     "name": "stdout",
     "output_type": "stream",
     "text": [
      "Filter size: 0 - Error: 1.1145220187619012\n",
      "Filter size: 1 - Error: 0.9174238859255925\n",
      "Filter size: 2 - Error: 0.7980897263179785\n",
      "Filter size: 3 - Error: 0.8097442535275531\n",
      "Filter size: 4 - Error: 0.8105673351540454\n",
      "Filter size: 5 - Error: 0.8081901125729355\n",
      "Filter size: 6 - Error: 0.8084003631752389\n",
      "Filter size: 7 - Error: 0.808413695106161\n",
      "Filter size: 8 - Error: 0.8083988982483638\n",
      "Filter size: 9 - Error: 0.8084065150260697\n",
      "Filter size: 10 - Error: 0.8083506099008334\n",
      "Filter size: 11 - Error: 0.8080688641361645\n",
      "Filter size: 12 - Error: 0.8067575236384018\n",
      "Filter size: 13 - Error: 0.8009861267673423\n",
      "Filter size: 14 - Error: 0.7891291622989668\n"
     ]
    },
    {
     "data": {
      "text/plain": [
       "array([1.        , 0.70390008, 0.49423139, 0.45717316, 0.40442155,\n",
       "       0.34937557, 0.34363678, 0.43143647, 0.04911948, 0.25628698])"
      ]
     },
     "execution_count": 6,
     "metadata": {},
     "output_type": "execute_result"
    }
   ],
   "source": [
    "from sclibrary.filters import GridBasedFilterDesign\n",
    "\n",
    "gbf = GridBasedFilterDesign(sc)\n",
    "\n",
    "gbf.denoise(f=f, f_true=f0, p_choice=\"L1\", L=15)\n",
    "\n",
    "gbf.history[\"frequency_responses\"][-1]"
   ]
  },
  {
   "cell_type": "code",
   "execution_count": null,
   "metadata": {},
   "outputs": [],
   "source": []
  }
 ],
 "metadata": {
  "kernelspec": {
   "display_name": "thesis_venv",
   "language": "python",
   "name": "python3"
  },
  "language_info": {
   "codemirror_mode": {
    "name": "ipython",
    "version": 3
   },
   "file_extension": ".py",
   "mimetype": "text/x-python",
   "name": "python",
   "nbconvert_exporter": "python",
   "pygments_lexer": "ipython3",
   "version": "3.11.9"
  }
 },
 "nbformat": 4,
 "nbformat_minor": 2
}
