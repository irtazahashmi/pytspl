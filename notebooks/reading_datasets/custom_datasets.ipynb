{
 "cells": [
  {
   "cell_type": "markdown",
   "metadata": {},
   "source": [
    "## Reading custom datasets and building a Simplicial Complex"
   ]
  },
  {
   "cell_type": "markdown",
   "metadata": {},
   "source": [
    "In this tutorial, we provide examples to read data and build a simplicial complex using different formats of data."
   ]
  },
  {
   "cell_type": "markdown",
   "metadata": {},
   "source": [
    "### CSV and TNTP format"
   ]
  },
  {
   "cell_type": "markdown",
   "metadata": {},
   "source": [
    "The code reads a CSV file containing edges of a graph, processes the data to identify source and target nodes, extracts a specific feature (distance), and converts this data into a simplicial complex. The summary provides a quick overview of the structure and properties of the generated simplicial complex, including the number of nodes, edges, and higher-dimensional simplices."
   ]
  },
  {
   "cell_type": "code",
   "execution_count": 2,
   "metadata": {},
   "outputs": [
    {
     "name": "stdout",
     "output_type": "stream",
     "text": [
      "(CVXPY) Jul 30 01:43:37 AM: Encountered unexpected exception importing solver ECOS:\n",
      "ImportError(\"dlopen(/Users/irtaza.hashmi@futurice.com/Desktop/Thesis/pytspl/thesis_venv/lib/python3.11/site-packages/_ecos.cpython-311-darwin.so, 0x0002): tried: '/Users/irtaza.hashmi@futurice.com/Desktop/Thesis/pytspl/thesis_venv/lib/python3.11/site-packages/_ecos.cpython-311-darwin.so' (mach-o file, but is an incompatible architecture (have 'x86_64', need 'arm64')), '/System/Volumes/Preboot/Cryptexes/OS/Users/irtaza.hashmi@futurice.com/Desktop/Thesis/pytspl/thesis_venv/lib/python3.11/site-packages/_ecos.cpython-311-darwin.so' (no such file), '/Users/irtaza.hashmi@futurice.com/Desktop/Thesis/pytspl/thesis_venv/lib/python3.11/site-packages/_ecos.cpython-311-darwin.so' (mach-o file, but is an incompatible architecture (have 'x86_64', need 'arm64'))\")\n",
      "(CVXPY) Jul 30 01:43:37 AM: Encountered unexpected exception importing solver SCS:\n",
      "ImportError(\"dlopen(/Users/irtaza.hashmi@futurice.com/Desktop/Thesis/pytspl/thesis_venv/lib/python3.11/site-packages/_scs_direct.cpython-311-darwin.so, 0x0002): tried: '/Users/irtaza.hashmi@futurice.com/Desktop/Thesis/pytspl/thesis_venv/lib/python3.11/site-packages/_scs_direct.cpython-311-darwin.so' (mach-o file, but is an incompatible architecture (have 'x86_64', need 'arm64')), '/System/Volumes/Preboot/Cryptexes/OS/Users/irtaza.hashmi@futurice.com/Desktop/Thesis/pytspl/thesis_venv/lib/python3.11/site-packages/_scs_direct.cpython-311-darwin.so' (no such file), '/Users/irtaza.hashmi@futurice.com/Desktop/Thesis/pytspl/thesis_venv/lib/python3.11/site-packages/_scs_direct.cpython-311-darwin.so' (mach-o file, but is an incompatible architecture (have 'x86_64', need 'arm64'))\")\n",
      "(CVXPY) Jul 30 01:43:37 AM: Encountered unexpected exception importing solver ECOS_BB:\n",
      "ImportError(\"dlopen(/Users/irtaza.hashmi@futurice.com/Desktop/Thesis/pytspl/thesis_venv/lib/python3.11/site-packages/_ecos.cpython-311-darwin.so, 0x0002): tried: '/Users/irtaza.hashmi@futurice.com/Desktop/Thesis/pytspl/thesis_venv/lib/python3.11/site-packages/_ecos.cpython-311-darwin.so' (mach-o file, but is an incompatible architecture (have 'x86_64', need 'arm64')), '/System/Volumes/Preboot/Cryptexes/OS/Users/irtaza.hashmi@futurice.com/Desktop/Thesis/pytspl/thesis_venv/lib/python3.11/site-packages/_ecos.cpython-311-darwin.so' (no such file), '/Users/irtaza.hashmi@futurice.com/Desktop/Thesis/pytspl/thesis_venv/lib/python3.11/site-packages/_ecos.cpython-311-darwin.so' (mach-o file, but is an incompatible architecture (have 'x86_64', need 'arm64'))\")\n",
      "(CVXPY) Jul 30 01:43:37 AM: Encountered unexpected exception importing solver OSQP:\n",
      "ImportError(\"dlopen(/Users/irtaza.hashmi@futurice.com/Desktop/Thesis/pytspl/thesis_venv/lib/python3.11/site-packages/qdldl.cpython-311-darwin.so, 0x0002): tried: '/Users/irtaza.hashmi@futurice.com/Desktop/Thesis/pytspl/thesis_venv/lib/python3.11/site-packages/qdldl.cpython-311-darwin.so' (mach-o file, but is an incompatible architecture (have 'x86_64', need 'arm64')), '/System/Volumes/Preboot/Cryptexes/OS/Users/irtaza.hashmi@futurice.com/Desktop/Thesis/pytspl/thesis_venv/lib/python3.11/site-packages/qdldl.cpython-311-darwin.so' (no such file), '/Users/irtaza.hashmi@futurice.com/Desktop/Thesis/pytspl/thesis_venv/lib/python3.11/site-packages/qdldl.cpython-311-darwin.so' (mach-o file, but is an incompatible architecture (have 'x86_64', need 'arm64'))\")\n",
      "Num. of nodes: 7\n",
      "Num. of edges: 10\n",
      "Num. of triangles: 3\n",
      "Shape: (7, 10, 3)\n",
      "Max Dimension: 2\n"
     ]
    }
   ],
   "source": [
    "from pytspl import read_csv\n",
    "\n",
    "PAPER_DATA_FOLDER = \"pytspl/data/paper_data\"\n",
    "\n",
    "filename = f\"{PAPER_DATA_FOLDER}/edges.csv\"\n",
    "delimiter = \" \"\n",
    "src_col = \"Source\"\n",
    "dest_col = \"Target\"\n",
    "feature_cols = [\"Distance\"]\n",
    "\n",
    "# reading a csv file\n",
    "sc = read_csv(\n",
    "        filename=filename, \n",
    "        delimiter=delimiter, \n",
    "        src_col=src_col, \n",
    "        dest_col=dest_col, \n",
    "        feature_cols=feature_cols\n",
    "    ).to_simplicial_complex(condition=\"all\")\n",
    "\n",
    "sc.print_summary()"
   ]
  },
  {
   "cell_type": "markdown",
   "metadata": {},
   "source": [
    "Similarly the data can be read from a TNTP format using the $\\texttt{read\\_tntp}$ function."
   ]
  },
  {
   "cell_type": "markdown",
   "metadata": {},
   "source": [
    "### Incidence matrices\n",
    "\n",
    "The data can be directly read from incidence matrices $\\textbf{B}_1$ and $\\textbf{B}_2$. The triangles (2-simplices) are extracted from the $\\textbf{B}_2$ matrix."
   ]
  },
  {
   "cell_type": "code",
   "execution_count": 3,
   "metadata": {},
   "outputs": [],
   "source": [
    "from pytspl import read_B1_B2\n",
    "\n",
    "B1_filename = \"pytspl/data/paper_data/B1.csv\"\n",
    "B2_filename = \"pytspl/data/paper_data/B2t.csv\"\n",
    "\n",
    "# extract the triangles\n",
    "scbuilder, triangles = read_B1_B2(\n",
    "    B1_filename=B1_filename, \n",
    "    B2_filename=B2_filename\n",
    ")"
   ]
  },
  {
   "cell_type": "markdown",
   "metadata": {},
   "source": [
    "Now we can build the SC using the extracted triangles."
   ]
  },
  {
   "cell_type": "code",
   "execution_count": 4,
   "metadata": {},
   "outputs": [
    {
     "name": "stdout",
     "output_type": "stream",
     "text": [
      "Num. of nodes: 7\n",
      "Num. of edges: 10\n",
      "Num. of triangles: 3\n",
      "Shape: (7, 10, 3)\n",
      "Max Dimension: 2\n"
     ]
    }
   ],
   "source": [
    "# build the SC using the triangles\n",
    "sc = scbuilder.to_simplicial_complex(triangles=triangles)\n",
    "sc.print_summary()"
   ]
  },
  {
   "cell_type": "markdown",
   "metadata": {},
   "source": [
    "### Building a SC\n",
    "\n",
    "There are several ways to build a SC using $\\texttt{PyTSPL}$. The first way is to find all the triangles in the graph and consider them as 2-simplices. This method is triangle-based. The second way is find all the triangles and only keep the ones where the distance between the nodes is less than a threshold $\\epsilon$. This method is distance-based. By default, when we load a dataset using the $\\texttt{load\\_dataset}$ function, the SC is built using the triangle-based method.\n",
    "\n",
    "In this first example, we build the the simplicial complex by finding all the triangles."
   ]
  },
  {
   "cell_type": "code",
   "execution_count": 5,
   "metadata": {},
   "outputs": [
    {
     "name": "stdout",
     "output_type": "stream",
     "text": [
      "Num. of nodes: 7\n",
      "Num. of edges: 10\n",
      "Num. of triangles: 3\n",
      "Shape: (7, 10, 3)\n",
      "Max Dimension: 2\n"
     ]
    }
   ],
   "source": [
    "sc = read_csv(\n",
    "        filename=filename, \n",
    "        delimiter=delimiter, \n",
    "        src_col=src_col, \n",
    "        dest_col=dest_col, \n",
    "        feature_cols=feature_cols\n",
    "    ).to_simplicial_complex(condition=\"all\")\n",
    "\n",
    "sc.print_summary()"
   ]
  },
  {
   "cell_type": "markdown",
   "metadata": {},
   "source": [
    "In this second example, we build a simplicial complex using the distance-method and define distance $\\epsilon$. When building a SC with the distance-based method, we get one less triangle (2-simplex)."
   ]
  },
  {
   "cell_type": "code",
   "execution_count": 6,
   "metadata": {},
   "outputs": [
    {
     "name": "stdout",
     "output_type": "stream",
     "text": [
      "Num. of nodes: 7\n",
      "Num. of edges: 10\n",
      "Num. of triangles: 2\n",
      "Shape: (7, 10, 2)\n",
      "Max Dimension: 2\n"
     ]
    }
   ],
   "source": [
    "sc = read_csv(\n",
    "        filename=filename, \n",
    "        delimiter=delimiter, \n",
    "        src_col=src_col, \n",
    "        dest_col=dest_col, \n",
    "        feature_cols=feature_cols,\n",
    "    ).to_simplicial_complex(\n",
    "        condition=\"distance\",\n",
    "        dist_col_name= \"Distance\",\n",
    "        dist_threshold = 1.5,\n",
    "    )\n",
    "    \n",
    "sc.print_summary()"
   ]
  },
  {
   "cell_type": "markdown",
   "metadata": {},
   "source": [
    "### Reading coordinates and edge flow from data"
   ]
  },
  {
   "cell_type": "markdown",
   "metadata": {},
   "source": [
    "We can also read coordinates and flow from custom datasets."
   ]
  },
  {
   "cell_type": "code",
   "execution_count": 7,
   "metadata": {},
   "outputs": [
    {
     "name": "stdout",
     "output_type": "stream",
     "text": [
      "{0: (0, 0.0), 1: (1, -0.5), 2: (0, -1.0), 3: (-1, -0.5), 4: (-1, -2.5), 5: (0, -2.0), 6: (1, -2.5)}\n"
     ]
    }
   ],
   "source": [
    "from pytspl.io.network_reader import read_coordinates, read_flow\n",
    "\n",
    "# load coordinates\n",
    "coordinates_path = \"pytspl/data/paper_data/coordinates.csv\"\n",
    "\n",
    "coordinates = read_coordinates(\n",
    "    filename=coordinates_path,\n",
    "    node_id_col=\"Id\",\n",
    "    x_col=\"X\",\n",
    "    y_col=\"Y\",\n",
    "    delimiter=\" \"\n",
    ")\n",
    "\n",
    "print(coordinates)"
   ]
  },
  {
   "cell_type": "code",
   "execution_count": 9,
   "metadata": {},
   "outputs": [
    {
     "name": "stdout",
     "output_type": "stream",
     "text": [
      "{0: {0: 2.25, 1: 0.13, 2: 1.72, 3: -2.12, 4: 1.59, 5: 1.08, 6: -0.3, 7: -0.21, 8: 1.25, 9: 1.45}}\n"
     ]
    }
   ],
   "source": [
    "# load flow\n",
    "flow_path = \"pytspl/data/paper_data/flow.csv\"\n",
    "flow = read_flow(filename=flow_path, header=None)\n",
    "\n",
    "print(flow.to_dict())"
   ]
  },
  {
   "cell_type": "code",
   "execution_count": null,
   "metadata": {},
   "outputs": [],
   "source": []
  },
  {
   "cell_type": "code",
   "execution_count": null,
   "metadata": {},
   "outputs": [],
   "source": []
  },
  {
   "cell_type": "code",
   "execution_count": null,
   "metadata": {},
   "outputs": [],
   "source": []
  }
 ],
 "metadata": {
  "kernelspec": {
   "display_name": "thesis_venv",
   "language": "python",
   "name": "python3"
  },
  "language_info": {
   "codemirror_mode": {
    "name": "ipython",
    "version": 3
   },
   "file_extension": ".py",
   "mimetype": "text/x-python",
   "name": "python",
   "nbconvert_exporter": "python",
   "pygments_lexer": "ipython3",
   "version": "3.11.9"
  }
 },
 "nbformat": 4,
 "nbformat_minor": 2
}
