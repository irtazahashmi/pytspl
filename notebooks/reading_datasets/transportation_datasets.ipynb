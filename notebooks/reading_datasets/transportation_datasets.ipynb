{
 "cells": [
  {
   "cell_type": "code",
   "execution_count": 1,
   "metadata": {},
   "outputs": [
    {
     "data": {
      "text/plain": [
       "'/Users/irtaza.hashmi@futurice.com/Desktop/Thesis/sc-graph-library'"
      ]
     },
     "execution_count": 1,
     "metadata": {},
     "output_type": "execute_result"
    }
   ],
   "source": [
    "import os\n",
    "\n",
    "# set the current working directory\n",
    "curr_path = os.getcwd().split(\"/\")[:-2]\n",
    "curr_path = \"/\".join(curr_path)\n",
    "os.chdir(curr_path)\n",
    "os.getcwd()"
   ]
  },
  {
   "cell_type": "code",
   "execution_count": 2,
   "metadata": {},
   "outputs": [
    {
     "data": {
      "text/plain": [
       "['barcelona',\n",
       " 'chicago-regional',\n",
       " 'siouxfalls',\n",
       " 'anaheim',\n",
       " 'test_dataset',\n",
       " 'goldcoast',\n",
       " 'winnipeg',\n",
       " 'chicago-sketch']"
      ]
     },
     "execution_count": 2,
     "metadata": {},
     "output_type": "execute_result"
    }
   ],
   "source": [
    "from sclibrary import dataset_loader, SCPlot\n",
    "\n",
    "# list all the datasets\n",
    "dataset_loader.list_transportation_datasets()"
   ]
  },
  {
   "cell_type": "code",
   "execution_count": 6,
   "metadata": {},
   "outputs": [
    {
     "name": "stdout",
     "output_type": "stream",
     "text": [
      "['from', 'to', 'capacity (per lane)', 'length (km)', 'fftt (min)', 'alpha', 'beta', 'ff speed (km/h)', 'critical speed (km/h)', 'lanes', ';']\n",
      "{'coordinates_exist': True,\n",
      " 'dataset': 'goldcoast',\n",
      " 'features': ['from',\n",
      "              'to',\n",
      "              'capacity (per lane)',\n",
      "              'length (km)',\n",
      "              'fftt (min)',\n",
      "              'alpha',\n",
      "              'beta',\n",
      "              'ff speed (km/h)',\n",
      "              'critical speed (km/h)',\n",
      "              'lanes'],\n",
      " 'first_thru_node': '1069',\n",
      " 'flow_data_exist': False,\n",
      " 'number_of_links': '11140',\n",
      " 'number_of_nodes': '4807',\n",
      " 'number_of_zones': '1068'}\n",
      "Flow data file not found for the dataset: goldcoast\n"
     ]
    }
   ],
   "source": [
    "\n",
    "import matplotlib.pyplot as plt\n",
    "import numpy as np\n",
    "\n",
    "dataset = \"goldcoast\"\n",
    "sc, coordinates, flow = dataset_loader.load(dataset=dataset)\n",
    "\n",
    "scplot = SCPlot(simplical_complex=sc, coordinates=coordinates)\n",
    "\n",
    "flow_volume = np.round(np.array([*flow.values()]) * 0.01, 2)\n",
    "# add noise to the flow volume\n",
    "flow_volume_noisy = flow_volume + np.random.normal(0, 30, flow_volume.shape)"
   ]
  },
  {
   "cell_type": "code",
   "execution_count": null,
   "metadata": {},
   "outputs": [],
   "source": []
  },
  {
   "cell_type": "code",
   "execution_count": null,
   "metadata": {},
   "outputs": [],
   "source": []
  }
 ],
 "metadata": {
  "kernelspec": {
   "display_name": "thesis_venv",
   "language": "python",
   "name": "python3"
  },
  "language_info": {
   "codemirror_mode": {
    "name": "ipython",
    "version": 3
   },
   "file_extension": ".py",
   "mimetype": "text/x-python",
   "name": "python",
   "nbconvert_exporter": "python",
   "pygments_lexer": "ipython3",
   "version": "3.11.7"
  }
 },
 "nbformat": 4,
 "nbformat_minor": 2
}
