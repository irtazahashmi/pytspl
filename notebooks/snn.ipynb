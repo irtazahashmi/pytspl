{
 "cells": [
  {
   "cell_type": "markdown",
   "metadata": {},
   "source": [
    "### SNN - Node classsification"
   ]
  },
  {
   "cell_type": "code",
   "execution_count": null,
   "metadata": {},
   "outputs": [],
   "source": [
    "import os\n",
    "\n",
    "# set the current working directory\n",
    "curr_path = os.getcwd().split(\"/\")[:-1]\n",
    "curr_path = \"/\".join(curr_path)\n",
    "os.chdir(curr_path)\n",
    "os.getcwd()"
   ]
  },
  {
   "cell_type": "code",
   "execution_count": 1,
   "metadata": {},
   "outputs": [],
   "source": [
    "import numpy as np\n",
    "import torch\n",
    "\n",
    "import toponetx.datasets.graph as graph\n",
    "from topomodelx.utils.sparse import from_sparse\n",
    "\n",
    "from pytspl.snn import SCCNNTrainer\n",
    "from pytspl.snn import SCNNTrainer"
   ]
  },
  {
   "cell_type": "markdown",
   "metadata": {},
   "source": [
    "#### Load dataset"
   ]
  },
  {
   "cell_type": "code",
   "execution_count": 2,
   "metadata": {},
   "outputs": [
    {
     "name": "stdout",
     "output_type": "stream",
     "text": [
      "Simplicial Complex with shape (34, 78, 45, 11, 2) and dimension 4\n",
      "The incidence matrix B1 has shape: (34, 78).\n",
      "The incidence matrix B2 has shape: (78, 45).\n"
     ]
    }
   ],
   "source": [
    "# load dataset\n",
    "dataset = graph.karate_club(complex_type=\"simplicial\")\n",
    "print(dataset)\n",
    "\n",
    "# get incidence matrices\n",
    "incidence_1 = dataset.incidence_matrix(rank=1)\n",
    "incidence_2 = dataset.incidence_matrix(rank=2)\n",
    "print(f\"The incidence matrix B1 has shape: {incidence_1.shape}.\")\n",
    "print(f\"The incidence matrix B2 has shape: {incidence_2.shape}.\")\n",
    "\n",
    "incidence_1 = from_sparse(incidence_1)\n",
    "incidence_2 = from_sparse(incidence_2)\n",
    "\n",
    "incidence_all = (incidence_1, incidence_2)\n",
    "\n",
    "# get laplacians\n",
    "laplacian_0 = dataset.hodge_laplacian_matrix(rank=0)\n",
    "laplacian_down_1 = dataset.down_laplacian_matrix(rank=1)\n",
    "laplacian_up_1 = dataset.up_laplacian_matrix(rank=1)\n",
    "laplacian_down_2 = dataset.down_laplacian_matrix(rank=2)\n",
    "laplacian_up_2 = dataset.up_laplacian_matrix(rank=2)\n",
    "\n",
    "laplacian_0 = from_sparse(laplacian_0)\n",
    "laplacian_down_1 = from_sparse(laplacian_down_1)\n",
    "laplacian_up_1 = from_sparse(laplacian_up_1)\n",
    "laplacian_down_2 = from_sparse(laplacian_down_2)\n",
    "laplacian_up_2 = from_sparse(laplacian_up_2)\n",
    "\n",
    "laplacian_all = (\n",
    "    laplacian_0,\n",
    "    laplacian_down_1,\n",
    "    laplacian_up_1,\n",
    "    laplacian_down_2,\n",
    "    laplacian_up_2,\n",
    ")"
   ]
  },
  {
   "cell_type": "code",
   "execution_count": 3,
   "metadata": {},
   "outputs": [],
   "source": [
    "y = np.array(\n",
    "    [\n",
    "        1,\n",
    "        1,\n",
    "        1,\n",
    "        1,\n",
    "        1,\n",
    "        1,\n",
    "        1,\n",
    "        1,\n",
    "        1,\n",
    "        0,\n",
    "        1,\n",
    "        1,\n",
    "        1,\n",
    "        1,\n",
    "        0,\n",
    "        0,\n",
    "        1,\n",
    "        1,\n",
    "        0,\n",
    "        1,\n",
    "        0,\n",
    "        1,\n",
    "        0,\n",
    "        0,\n",
    "        0,\n",
    "        0,\n",
    "        0,\n",
    "        0,\n",
    "        0,\n",
    "        0,\n",
    "        0,\n",
    "        0,\n",
    "        0,\n",
    "        0,\n",
    "    ]\n",
    ")\n",
    "\n",
    "y_true = np.zeros((34, 2))\n",
    "y_true[:, 0] = y\n",
    "y_true[:, 1] = 1 - y\n",
    "\n",
    "y_train = y_true[:30]\n",
    "y_test = y_true[-4:]\n",
    "y_train = torch.from_numpy(y_train)\n",
    "y_test = torch.from_numpy(y_test)"
   ]
  },
  {
   "cell_type": "code",
   "execution_count": 4,
   "metadata": {},
   "outputs": [],
   "source": [
    "def get_simplicial_features(dataset, rank):\n",
    "    if rank == 0:\n",
    "        which_feat = \"node_feat\"\n",
    "    elif rank == 1:\n",
    "        which_feat = \"edge_feat\"\n",
    "    elif rank == 2:\n",
    "        which_feat = \"face_feat\"\n",
    "    else:\n",
    "        raise ValueError(\n",
    "            \"input dimension must be 0, 1 or 2, because features are supported on\" +\n",
    "            \"nodes, edges and faces\"\n",
    "        )\n",
    "\n",
    "    x = list(dataset.get_simplex_attributes(which_feat).values())\n",
    "    return torch.tensor(np.stack(x))"
   ]
  },
  {
   "cell_type": "markdown",
   "metadata": {},
   "source": [
    "### SCCNN "
   ]
  },
  {
   "cell_type": "code",
   "execution_count": 5,
   "metadata": {},
   "outputs": [
    {
     "name": "stdout",
     "output_type": "stream",
     "text": [
      "There are 34 nodes with features of imension 2.\n",
      "There are 78 edges with features of dimension 2.\n",
      "There are 45 faces with features of dimension 2.\n"
     ]
    }
   ],
   "source": [
    "# get simplicial features\n",
    "x_0 = get_simplicial_features(dataset, rank=0)\n",
    "x_1 = get_simplicial_features(dataset, rank=1)\n",
    "x_2 = get_simplicial_features(dataset, rank=2)\n",
    "\n",
    "feats_all = (x_0, x_1, x_2)\n",
    "\n",
    "print(f\"There are {x_0.shape[0]} nodes with features of imension {x_0.shape[1]}.\")\n",
    "print(f\"There are {x_1.shape[0]} edges with features of dimension {x_1.shape[1]}.\")\n",
    "print(f\"There are {x_2.shape[0]} faces with features of dimension {x_2.shape[1]}.\")"
   ]
  },
  {
   "cell_type": "code",
   "execution_count": 6,
   "metadata": {},
   "outputs": [],
   "source": [
    "max_rank = dataset.dim\n",
    "\n",
    "conv_order = 2\n",
    "in_channels_all = (x_0.shape[-1], x_1.shape[-1], x_2.shape[-1])\n",
    "intermediate_channels_all = (16, 16, 16)\n",
    "num_layers = 2\n",
    "out_channels = 2  # num classes\n",
    "\n",
    "model = SCCNNTrainer(\n",
    "    in_channels_all=in_channels_all,\n",
    "    hidden_channels_all=intermediate_channels_all,\n",
    "    out_channels=out_channels,\n",
    "    conv_order=conv_order,\n",
    "    max_rank=max_rank,\n",
    "    update_func=\"sigmoid\",\n",
    "    n_layers=num_layers,\n",
    ")"
   ]
  },
  {
   "cell_type": "code",
   "execution_count": 7,
   "metadata": {},
   "outputs": [
    {
     "name": "stdout",
     "output_type": "stream",
     "text": [
      "Epoch: 1 loss: 0.7105 Train_acc: 0.2000\n",
      "Epoch: 2 loss: 0.6607 Train_acc: 0.6000\n",
      "Epoch: 3 loss: 0.5933 Train_acc: 0.8333\n",
      "Epoch: 4 loss: 0.5920 Train_acc: 0.6000\n",
      "Epoch: 5 loss: 0.5310 Train_acc: 0.8667\n",
      "Epoch: 6 loss: 0.5275 Train_acc: 0.8333\n",
      "Epoch: 7 loss: 0.5066 Train_acc: 0.8000\n",
      "Epoch: 8 loss: 0.5004 Train_acc: 0.8000\n",
      "Epoch: 9 loss: 0.5004 Train_acc: 0.8333\n",
      "Epoch: 10 loss: 0.4986 Train_acc: 0.8000\n",
      "Epoch: 11 loss: 0.4977 Train_acc: 0.8000\n",
      "Epoch: 12 loss: 0.4971 Train_acc: 0.8000\n",
      "Epoch: 13 loss: 0.4965 Train_acc: 0.8000\n",
      "Epoch: 14 loss: 0.4959 Train_acc: 0.8000\n",
      "Epoch: 15 loss: 0.4953 Train_acc: 0.8000\n",
      "Epoch: 16 loss: 0.4945 Train_acc: 0.8000\n",
      "Epoch: 17 loss: 0.4935 Train_acc: 0.8333\n",
      "Epoch: 18 loss: 0.4925 Train_acc: 0.8333\n",
      "Epoch: 19 loss: 0.4915 Train_acc: 0.8333\n",
      "Epoch: 20 loss: 0.4904 Train_acc: 0.8333\n",
      "Epoch: 21 loss: 0.4893 Train_acc: 0.8333\n",
      "Epoch: 22 loss: 0.4883 Train_acc: 0.8333\n",
      "Epoch: 23 loss: 0.4874 Train_acc: 0.8333\n",
      "Epoch: 24 loss: 0.4702 Train_acc: 0.8333\n",
      "Epoch: 25 loss: 0.4899 Train_acc: 0.8333\n",
      "Epoch: 26 loss: 0.4903 Train_acc: 0.8333\n",
      "Epoch: 27 loss: 0.4902 Train_acc: 0.8333\n",
      "Epoch: 28 loss: 0.4897 Train_acc: 0.8333\n",
      "Epoch: 29 loss: 0.4889 Train_acc: 0.8333\n",
      "Epoch: 30 loss: 0.4879 Train_acc: 0.8333\n",
      "Epoch: 31 loss: 0.4869 Train_acc: 0.8333\n",
      "Epoch: 32 loss: 0.4860 Train_acc: 0.8333\n",
      "Epoch: 33 loss: 0.4852 Train_acc: 0.8333\n",
      "Epoch: 34 loss: 0.4846 Train_acc: 0.8333\n",
      "Epoch: 35 loss: 0.4841 Train_acc: 0.8333\n",
      "Epoch: 36 loss: 0.4837 Train_acc: 0.8333\n",
      "Epoch: 37 loss: 0.4835 Train_acc: 0.8333\n",
      "Epoch: 38 loss: 0.4833 Train_acc: 0.8333\n",
      "Epoch: 39 loss: 0.4832 Train_acc: 0.8333\n",
      "Epoch: 40 loss: 0.4831 Train_acc: 0.8333\n",
      "Epoch: 41 loss: 0.4830 Train_acc: 0.8333\n",
      "Epoch: 42 loss: 0.4830 Train_acc: 0.8333\n",
      "Epoch: 43 loss: 0.4829 Train_acc: 0.8333\n",
      "Epoch: 44 loss: 0.4829 Train_acc: 0.8333\n",
      "Epoch: 45 loss: 0.4828 Train_acc: 0.8333\n",
      "Epoch: 46 loss: 0.4828 Train_acc: 0.8333\n",
      "Epoch: 47 loss: 0.4827 Train_acc: 0.8333\n",
      "Epoch: 48 loss: 0.4827 Train_acc: 0.8333\n",
      "Epoch: 49 loss: 0.4826 Train_acc: 0.8333\n",
      "Epoch: 50 loss: 0.4826 Train_acc: 0.8333\n",
      "Epoch: 51 loss: 0.4825 Train_acc: 0.8333\n",
      "Epoch: 52 loss: 0.4824 Train_acc: 0.8333\n",
      "Epoch: 53 loss: 0.4823 Train_acc: 0.8333\n",
      "Epoch: 54 loss: 0.4822 Train_acc: 0.8333\n",
      "Epoch: 55 loss: 0.4822 Train_acc: 0.8333\n",
      "Epoch: 56 loss: 0.4821 Train_acc: 0.8333\n",
      "Epoch: 57 loss: 0.4820 Train_acc: 0.8333\n",
      "Epoch: 58 loss: 0.4820 Train_acc: 0.8333\n",
      "Epoch: 59 loss: 0.4819 Train_acc: 0.8333\n",
      "Epoch: 60 loss: 0.4819 Train_acc: 0.8333\n",
      "Epoch: 61 loss: 0.4818 Train_acc: 0.8333\n",
      "Epoch: 62 loss: 0.4818 Train_acc: 0.8333\n",
      "Epoch: 63 loss: 0.4817 Train_acc: 0.8333\n",
      "Epoch: 64 loss: 0.4817 Train_acc: 0.8333\n",
      "Epoch: 65 loss: 0.4817 Train_acc: 0.8333\n",
      "Epoch: 66 loss: 0.4816 Train_acc: 0.8333\n",
      "Epoch: 67 loss: 0.4816 Train_acc: 0.8333\n",
      "Epoch: 68 loss: 0.4816 Train_acc: 0.8333\n",
      "Epoch: 69 loss: 0.4816 Train_acc: 0.8333\n",
      "Epoch: 70 loss: 0.4815 Train_acc: 0.8333\n",
      "Epoch: 71 loss: 0.4815 Train_acc: 0.8333\n",
      "Epoch: 72 loss: 0.4815 Train_acc: 0.8333\n",
      "Epoch: 73 loss: 0.4815 Train_acc: 0.8333\n",
      "Epoch: 74 loss: 0.4814 Train_acc: 0.8333\n",
      "Epoch: 75 loss: 0.4814 Train_acc: 0.8333\n",
      "Epoch: 76 loss: 0.4814 Train_acc: 0.8333\n",
      "Epoch: 77 loss: 0.4814 Train_acc: 0.8333\n",
      "Epoch: 78 loss: 0.4814 Train_acc: 0.8333\n",
      "Epoch: 79 loss: 0.4814 Train_acc: 0.8333\n",
      "Epoch: 80 loss: 0.4813 Train_acc: 0.8333\n",
      "Epoch: 81 loss: 0.4813 Train_acc: 0.8333\n",
      "Epoch: 82 loss: 0.4813 Train_acc: 0.8333\n",
      "Epoch: 83 loss: 0.4813 Train_acc: 0.8333\n",
      "Epoch: 84 loss: 0.4813 Train_acc: 0.8333\n",
      "Epoch: 85 loss: 0.4813 Train_acc: 0.8333\n",
      "Epoch: 86 loss: 0.4812 Train_acc: 0.8333\n",
      "Epoch: 87 loss: 0.4812 Train_acc: 0.8333\n",
      "Epoch: 88 loss: 0.4812 Train_acc: 0.8333\n",
      "Epoch: 89 loss: 0.4812 Train_acc: 0.8333\n",
      "Epoch: 90 loss: 0.4812 Train_acc: 0.8333\n",
      "Epoch: 91 loss: 0.4812 Train_acc: 0.8333\n",
      "Epoch: 92 loss: 0.4812 Train_acc: 0.8333\n",
      "Epoch: 93 loss: 0.4811 Train_acc: 0.8333\n",
      "Epoch: 94 loss: 0.4811 Train_acc: 0.8333\n",
      "Epoch: 95 loss: 0.4811 Train_acc: 0.8333\n",
      "Epoch: 96 loss: 0.4811 Train_acc: 0.8333\n",
      "Epoch: 97 loss: 0.4811 Train_acc: 0.8333\n",
      "Epoch: 98 loss: 0.4811 Train_acc: 0.8333\n",
      "Epoch: 99 loss: 0.4811 Train_acc: 0.8333\n",
      "Epoch: 100 loss: 0.4811 Train_acc: 0.8333\n"
     ]
    }
   ],
   "source": [
    "optimizer = torch.optim.Adam(model.parameters, lr=0.1)\n",
    "\n",
    "model.train(\n",
    "    feats=feats_all,\n",
    "    incidence_mats=incidence_all,\n",
    "    laplacians=laplacian_all,\n",
    "    y_train=y_train,\n",
    "    optimizer=optimizer,\n",
    "    num_epochs=100,\n",
    ")"
   ]
  },
  {
   "cell_type": "code",
   "execution_count": 8,
   "metadata": {},
   "outputs": [
    {
     "name": "stdout",
     "output_type": "stream",
     "text": [
      "Test_acc: 0.5000\n"
     ]
    }
   ],
   "source": [
    "model.predict(\n",
    "    feats=feats_all,\n",
    "    incidence_mats=incidence_all,\n",
    "    laplacians=laplacian_all,\n",
    "    y_test=y_test,\n",
    ")"
   ]
  },
  {
   "cell_type": "code",
   "execution_count": null,
   "metadata": {},
   "outputs": [],
   "source": []
  },
  {
   "cell_type": "markdown",
   "metadata": {},
   "source": [
    "### SCNN"
   ]
  },
  {
   "cell_type": "code",
   "execution_count": 9,
   "metadata": {},
   "outputs": [],
   "source": [
    "rank = 1  # simplex level\n",
    "conv_order_down = 2\n",
    "conv_order_up = 2\n",
    "\n",
    "x = get_simplicial_features(dataset, rank)\n",
    "channels_x = x.shape[-1]\n",
    "\n",
    "hidden_channels = 16\n",
    "out_channels = 2  # num classes\n",
    "num_layers = 1\n",
    "\n",
    "if rank == 0:\n",
    "    laplacian_down = None\n",
    "    laplacian_up = laplacian_0  # the graph laplacian\n",
    "    conv_order_down = 0\n",
    "elif rank == 1:\n",
    "    laplacian_down = laplacian_down_1\n",
    "    laplacian_up = laplacian_up_1\n",
    "elif rank == 2:\n",
    "    laplacian_down = laplacian_down_2\n",
    "    laplacian_up = laplacian_up_2\n",
    "else:\n",
    "    raise ValueError(\"Rank must be not larger than 2 on this dataset\")"
   ]
  },
  {
   "cell_type": "code",
   "execution_count": 10,
   "metadata": {},
   "outputs": [
    {
     "name": "stdout",
     "output_type": "stream",
     "text": [
      "Network(\n",
      "  (base_model): SCNN(\n",
      "    (layers): ModuleList(\n",
      "      (0): SCNNLayer()\n",
      "    )\n",
      "  )\n",
      "  (linear): Linear(in_features=16, out_features=2, bias=True)\n",
      ")\n"
     ]
    }
   ],
   "source": [
    "model = SCNNTrainer(\n",
    "    in_channels=channels_x,\n",
    "    hidden_channels=hidden_channels,\n",
    "    out_channels=out_channels,\n",
    "    conv_order_down=conv_order_down,\n",
    "    conv_order_up=conv_order_up,\n",
    "    n_layers=num_layers,\n",
    ")\n",
    "\n",
    "print(model.network)"
   ]
  },
  {
   "cell_type": "code",
   "execution_count": 11,
   "metadata": {},
   "outputs": [
    {
     "name": "stdout",
     "output_type": "stream",
     "text": [
      "Epoch: 1 loss: 0.7545 Train_acc: 0.3333\n",
      "Epoch: 2 loss: 0.7243 Train_acc: 0.3333\n",
      "Epoch: 3 loss: 0.7033 Train_acc: 0.9000\n",
      "Epoch: 4 loss: 0.6766 Train_acc: 0.8000\n",
      "Epoch: 5 loss: 0.6520 Train_acc: 0.8000\n",
      "Epoch: 6 loss: 0.6327 Train_acc: 0.8000\n",
      "Epoch: 7 loss: 0.6187 Train_acc: 0.8000\n",
      "Epoch: 8 loss: 0.6083 Train_acc: 0.8333\n",
      "Epoch: 9 loss: 0.5999 Train_acc: 0.8333\n",
      "Epoch: 10 loss: 0.5925 Train_acc: 0.8333\n",
      "Epoch: 11 loss: 0.5850 Train_acc: 0.8333\n",
      "Epoch: 12 loss: 0.5769 Train_acc: 0.8667\n",
      "Epoch: 13 loss: 0.5716 Train_acc: 0.8667\n",
      "Epoch: 14 loss: 0.5697 Train_acc: 0.9000\n",
      "Epoch: 15 loss: 0.5687 Train_acc: 0.9000\n",
      "Epoch: 16 loss: 0.5675 Train_acc: 0.9000\n",
      "Epoch: 17 loss: 0.5659 Train_acc: 0.9000\n",
      "Epoch: 18 loss: 0.5640 Train_acc: 0.9000\n",
      "Epoch: 19 loss: 0.5621 Train_acc: 0.9000\n",
      "Epoch: 20 loss: 0.5603 Train_acc: 0.9000\n",
      "Epoch: 21 loss: 0.5590 Train_acc: 0.9000\n",
      "Epoch: 22 loss: 0.5586 Train_acc: 0.9000\n",
      "Epoch: 23 loss: 0.5593 Train_acc: 0.9000\n",
      "Epoch: 24 loss: 0.5596 Train_acc: 0.9000\n",
      "Epoch: 25 loss: 0.5587 Train_acc: 0.9000\n",
      "Epoch: 26 loss: 0.5577 Train_acc: 0.9000\n",
      "Epoch: 27 loss: 0.5574 Train_acc: 0.9000\n",
      "Epoch: 28 loss: 0.5575 Train_acc: 0.9000\n",
      "Epoch: 29 loss: 0.5577 Train_acc: 0.9000\n",
      "Epoch: 30 loss: 0.5578 Train_acc: 0.9000\n",
      "Epoch: 31 loss: 0.5576 Train_acc: 0.9000\n",
      "Epoch: 32 loss: 0.5573 Train_acc: 0.9000\n",
      "Epoch: 33 loss: 0.5568 Train_acc: 0.9000\n",
      "Epoch: 34 loss: 0.5564 Train_acc: 0.9000\n",
      "Epoch: 35 loss: 0.5563 Train_acc: 0.9000\n",
      "Epoch: 36 loss: 0.5563 Train_acc: 0.9000\n",
      "Epoch: 37 loss: 0.5564 Train_acc: 0.9000\n",
      "Epoch: 38 loss: 0.5562 Train_acc: 0.9000\n",
      "Epoch: 39 loss: 0.5559 Train_acc: 0.9000\n",
      "Epoch: 40 loss: 0.5557 Train_acc: 0.9000\n",
      "Epoch: 41 loss: 0.5556 Train_acc: 0.9000\n",
      "Epoch: 42 loss: 0.5555 Train_acc: 0.9000\n",
      "Epoch: 43 loss: 0.5555 Train_acc: 0.9000\n",
      "Epoch: 44 loss: 0.5555 Train_acc: 0.9000\n",
      "Epoch: 45 loss: 0.5553 Train_acc: 0.9000\n",
      "Epoch: 46 loss: 0.5552 Train_acc: 0.9000\n",
      "Epoch: 47 loss: 0.5551 Train_acc: 0.9000\n",
      "Epoch: 48 loss: 0.5550 Train_acc: 0.9000\n",
      "Epoch: 49 loss: 0.5549 Train_acc: 0.9000\n",
      "Epoch: 50 loss: 0.5549 Train_acc: 0.9000\n",
      "Epoch: 51 loss: 0.5548 Train_acc: 0.9000\n",
      "Epoch: 52 loss: 0.5548 Train_acc: 0.9000\n",
      "Epoch: 53 loss: 0.5547 Train_acc: 0.9000\n",
      "Epoch: 54 loss: 0.5547 Train_acc: 0.9000\n",
      "Epoch: 55 loss: 0.5546 Train_acc: 0.9000\n",
      "Epoch: 56 loss: 0.5546 Train_acc: 0.9000\n",
      "Epoch: 57 loss: 0.5545 Train_acc: 0.9000\n",
      "Epoch: 58 loss: 0.5545 Train_acc: 0.9000\n",
      "Epoch: 59 loss: 0.5545 Train_acc: 0.9000\n",
      "Epoch: 60 loss: 0.5545 Train_acc: 0.9000\n",
      "Epoch: 61 loss: 0.5544 Train_acc: 0.9000\n",
      "Epoch: 62 loss: 0.5544 Train_acc: 0.9000\n",
      "Epoch: 63 loss: 0.5544 Train_acc: 0.9000\n",
      "Epoch: 64 loss: 0.5543 Train_acc: 0.9000\n",
      "Epoch: 65 loss: 0.5543 Train_acc: 0.9000\n",
      "Epoch: 66 loss: 0.5543 Train_acc: 0.9000\n",
      "Epoch: 67 loss: 0.5543 Train_acc: 0.9000\n",
      "Epoch: 68 loss: 0.5543 Train_acc: 0.9000\n",
      "Epoch: 69 loss: 0.5542 Train_acc: 0.9000\n",
      "Epoch: 70 loss: 0.5542 Train_acc: 0.9000\n",
      "Epoch: 71 loss: 0.5542 Train_acc: 0.9000\n",
      "Epoch: 72 loss: 0.5542 Train_acc: 0.9000\n",
      "Epoch: 73 loss: 0.5542 Train_acc: 0.9000\n",
      "Epoch: 74 loss: 0.5542 Train_acc: 0.9000\n",
      "Epoch: 75 loss: 0.5541 Train_acc: 0.9000\n",
      "Epoch: 76 loss: 0.5541 Train_acc: 0.9000\n",
      "Epoch: 77 loss: 0.5541 Train_acc: 0.9000\n",
      "Epoch: 78 loss: 0.5541 Train_acc: 0.9000\n",
      "Epoch: 79 loss: 0.5541 Train_acc: 0.9000\n",
      "Epoch: 80 loss: 0.5541 Train_acc: 0.9000\n",
      "Epoch: 81 loss: 0.5541 Train_acc: 0.9000\n",
      "Epoch: 82 loss: 0.5540 Train_acc: 0.9000\n",
      "Epoch: 83 loss: 0.5540 Train_acc: 0.9000\n",
      "Epoch: 84 loss: 0.5540 Train_acc: 0.9000\n",
      "Epoch: 85 loss: 0.5540 Train_acc: 0.9000\n",
      "Epoch: 86 loss: 0.5540 Train_acc: 0.9000\n",
      "Epoch: 87 loss: 0.5540 Train_acc: 0.9000\n",
      "Epoch: 88 loss: 0.5540 Train_acc: 0.9000\n",
      "Epoch: 89 loss: 0.5540 Train_acc: 0.9000\n",
      "Epoch: 90 loss: 0.5540 Train_acc: 0.9000\n",
      "Epoch: 91 loss: 0.5539 Train_acc: 0.9000\n",
      "Epoch: 92 loss: 0.5539 Train_acc: 0.9000\n",
      "Epoch: 93 loss: 0.5539 Train_acc: 0.9000\n",
      "Epoch: 94 loss: 0.5539 Train_acc: 0.9000\n",
      "Epoch: 95 loss: 0.5539 Train_acc: 0.9000\n",
      "Epoch: 96 loss: 0.5539 Train_acc: 0.9000\n",
      "Epoch: 97 loss: 0.5539 Train_acc: 0.9000\n",
      "Epoch: 98 loss: 0.5539 Train_acc: 0.9000\n",
      "Epoch: 99 loss: 0.5539 Train_acc: 0.9000\n",
      "Epoch: 100 loss: 0.5539 Train_acc: 0.9000\n"
     ]
    }
   ],
   "source": [
    "optimizer = torch.optim.Adam(model.parameters, lr=0.1)\n",
    "\n",
    "model.train(\n",
    "    feats=x,\n",
    "    incidence_1=incidence_1,\n",
    "    laplacian_down=laplacian_down,\n",
    "    laplacian_up=laplacian_up,\n",
    "    y_train=y_train,\n",
    "    optimizer=optimizer,\n",
    "    num_epochs=100,\n",
    ")"
   ]
  },
  {
   "cell_type": "code",
   "execution_count": 12,
   "metadata": {},
   "outputs": [
    {
     "name": "stdout",
     "output_type": "stream",
     "text": [
      "Test_acc: 0.7500\n"
     ]
    }
   ],
   "source": [
    "model.predict(\n",
    "    feats=x,\n",
    "    incidence_1=incidence_1,\n",
    "    laplacian_down=laplacian_down,\n",
    "    laplacian_up=laplacian_up,\n",
    "    y_test=y_test,\n",
    ")"
   ]
  },
  {
   "cell_type": "code",
   "execution_count": null,
   "metadata": {},
   "outputs": [],
   "source": []
  },
  {
   "cell_type": "code",
   "execution_count": null,
   "metadata": {},
   "outputs": [],
   "source": []
  }
 ],
 "metadata": {
  "kernelspec": {
   "display_name": "thesis_venv",
   "language": "python",
   "name": "python3"
  },
  "language_info": {
   "codemirror_mode": {
    "name": "ipython",
    "version": 3
   },
   "file_extension": ".py",
   "mimetype": "text/x-python",
   "name": "python",
   "nbconvert_exporter": "python",
   "pygments_lexer": "ipython3",
   "version": "3.11.9"
  }
 },
 "nbformat": 4,
 "nbformat_minor": 2
}
