{
 "cells": [
  {
   "cell_type": "markdown",
   "metadata": {},
   "source": [
    "### Simplical Embeddings - SFT"
   ]
  },
  {
   "cell_type": "code",
   "execution_count": 1,
   "metadata": {},
   "outputs": [],
   "source": [
    "import os\n",
    "\n",
    "# set the current working directory\n",
    "curr_path = os.getcwd().split(\"/\")[:-2]\n",
    "curr_path = \"/\".join(curr_path)\n",
    "os.chdir(curr_path)"
   ]
  },
  {
   "cell_type": "code",
   "execution_count": 2,
   "metadata": {},
   "outputs": [
    {
     "name": "stdout",
     "output_type": "stream",
     "text": [
      "Num. of nodes: 7\n",
      "Num. of edges: 10\n",
      "Num. of triangles: 3\n",
      "Shape: (7, 10, 3)\n",
      "Max Dimension: 2\n",
      "Coordinates: 7\n",
      "Flow: 10\n"
     ]
    }
   ],
   "source": [
    "from pytspl import load_dataset, SCPlot\n",
    "\n",
    "sc, coordinates, _ = load_dataset(\"paper\")\n",
    "\n",
    "# create a plot\n",
    "scplot = SCPlot(sc, coordinates)"
   ]
  },
  {
   "cell_type": "code",
   "execution_count": 3,
   "metadata": {},
   "outputs": [
    {
     "name": "stdout",
     "output_type": "stream",
     "text": [
      "embedding_h [-1.00084785]\n",
      "embedding_g [-1.00061494 -1.00127703  1.00173495 -1.00287539  0.99531105  1.00412064]\n",
      "embedding_c [-1.          0.99881597  0.99702056]\n"
     ]
    }
   ],
   "source": [
    "synthetic_flow = [0.03, 0.5, 2.38, 0.88, -0.53, -0.52, 1.08, 0.47, -1.17, 0.09]\n",
    "\n",
    "f_tilda_h, f_tilda_c, f_tilda_g = sc.get_simplicial_embeddings(synthetic_flow)\n",
    "\n",
    "print(\"embedding_h\", f_tilda_h)\n",
    "print(\"embedding_g\", f_tilda_g)\n",
    "print(\"embedding_c\", f_tilda_c)"
   ]
  },
  {
   "cell_type": "code",
   "execution_count": null,
   "metadata": {},
   "outputs": [],
   "source": []
  },
  {
   "cell_type": "code",
   "execution_count": null,
   "metadata": {},
   "outputs": [],
   "source": []
  }
 ],
 "metadata": {
  "kernelspec": {
   "display_name": "thesis_venv",
   "language": "python",
   "name": "python3"
  },
  "language_info": {
   "codemirror_mode": {
    "name": "ipython",
    "version": 3
   },
   "file_extension": ".py",
   "mimetype": "text/x-python",
   "name": "python",
   "nbconvert_exporter": "python",
   "pygments_lexer": "ipython3",
   "version": "3.11.6"
  }
 },
 "nbformat": 4,
 "nbformat_minor": 2
}
