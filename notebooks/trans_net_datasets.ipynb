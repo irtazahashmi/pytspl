{
 "cells": [
  {
   "cell_type": "markdown",
   "metadata": {},
   "source": [
    "## Transportation network datasets"
   ]
  },
  {
   "cell_type": "code",
   "execution_count": 1,
   "metadata": {},
   "outputs": [],
   "source": [
    "import os\n",
    "\n",
    "# set the current working directory\n",
    "curr_path = os.getcwd().split(\"/\")[:-1]\n",
    "curr_path = \"/\".join(curr_path)\n",
    "os.chdir(curr_path)"
   ]
  },
  {
   "cell_type": "code",
   "execution_count": 2,
   "metadata": {},
   "outputs": [],
   "source": [
    "from sclibrary import read_tntp, get_coordinates\n",
    "from sclibrary import SCPlot\n",
    "\n",
    "data_folder = \"data/TransportationNetworks\"\n",
    "dataset = \"Berlin-Center\"\n",
    "dataset_path = f\"{data_folder}/{dataset}/berlin-center_net.tntp\"\n",
    "\n",
    "filename=dataset_path\n",
    "src_col=\"Init node\"\n",
    "dest_col=\"Term node\"\n",
    "skip_rows=5\n",
    "delimeter=\"\\t\"\n",
    "    \n",
    "sc = read_tntp(\n",
    "    filename=filename,\n",
    "    src_col=src_col,\n",
    "    dest_col=dest_col,\n",
    "    skip_rows=skip_rows,\n",
    "    delimeter=delimeter\n",
    ").to_simplicial_complex()"
   ]
  },
  {
   "cell_type": "code",
   "execution_count": null,
   "metadata": {},
   "outputs": [],
   "source": []
  }
 ],
 "metadata": {
  "kernelspec": {
   "display_name": "thesis_venv",
   "language": "python",
   "name": "python3"
  },
  "language_info": {
   "codemirror_mode": {
    "name": "ipython",
    "version": 3
   },
   "file_extension": ".py",
   "mimetype": "text/x-python",
   "name": "python",
   "nbconvert_exporter": "python",
   "pygments_lexer": "ipython3",
   "version": "3.11.7"
  }
 },
 "nbformat": 4,
 "nbformat_minor": 2
}
