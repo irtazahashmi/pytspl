{
 "cells": [
  {
   "cell_type": "markdown",
   "metadata": {},
   "source": [
    "### Simplical Embeddings - SFT"
   ]
  },
  {
   "cell_type": "code",
   "execution_count": 1,
   "metadata": {},
   "outputs": [],
   "source": [
    "import os\n",
    "\n",
    "# set the current working directory\n",
    "curr_path = os.getcwd().split(\"/\")[:-1]\n",
    "curr_path = \"/\".join(curr_path)\n",
    "os.chdir(curr_path)"
   ]
  },
  {
   "cell_type": "code",
   "execution_count": 2,
   "metadata": {},
   "outputs": [],
   "source": [
    "from sclibrary.network_reader import NetworkReader\n",
    "from sclibrary.simplicial_complex import SimplicialComplexNetwork\n",
    "from sclibrary.plot import SCPlot"
   ]
  },
  {
   "cell_type": "code",
   "execution_count": 3,
   "metadata": {},
   "outputs": [],
   "source": [
    "data_folder = 'data/paper_data'\n",
    "\n",
    "# read csv\n",
    "filename = data_folder + '/edges.csv'\n",
    "delimeter = \" \"\n",
    "src_col = 'Source'\n",
    "dest_col = 'Target'\n",
    "feature_cols = ['Distance']\n",
    "\n",
    "G = NetworkReader.read_csv(filename=filename, delimeter=delimeter, \n",
    "                           src_col=src_col, dest_col=dest_col, feature_cols=feature_cols)\n",
    "\n",
    "simplices = G.simplicies(condition=\"distance\", dist_col_name=\"Distance\", dist_threshold=1.5)\n",
    "\n",
    "# coordinates\n",
    "filename = data_folder + '/coordinates.csv'\n",
    "coordinates = NetworkReader.get_coordinates(filename=filename, \n",
    "                                            node_id_col=\"Id\", \n",
    "                                            x_col='X', \n",
    "                                            y_col='Y', \n",
    "                                            delimeter=\" \")\n",
    "\n",
    "\n",
    "# create a simplicial complex network\n",
    "sc = SimplicialComplexNetwork(simplices=simplices)\n",
    "# create a plot\n",
    "scplot = SCPlot(sc, coordinates)"
   ]
  },
  {
   "cell_type": "code",
   "execution_count": 4,
   "metadata": {},
   "outputs": [
    {
     "name": "stdout",
     "output_type": "stream",
     "text": [
      "embedding_h [-1.00084787]\n",
      "embedding_g [-1.00061497 -1.00127706 -1.00173494 -1.0028754  -0.99531111  1.00412063]\n",
      "embedding_c [-1.         -0.99881595 -0.99702054]\n"
     ]
    }
   ],
   "source": [
    "synthetic_flow = [0.03, 0.5, 2.38, 0.88, -0.53, -0.52, 1.08, 0.47, -1.17, 0.09]\n",
    "\n",
    "f_tilda_h, f_tilda_c, f_tilda_g = sc.get_simplicial_embeddings(synthetic_flow)\n",
    "\n",
    "print(\"embedding_h\", f_tilda_h)\n",
    "print(\"embedding_g\", f_tilda_g)\n",
    "print(\"embedding_c\", f_tilda_c)"
   ]
  },
  {
   "cell_type": "code",
   "execution_count": null,
   "metadata": {},
   "outputs": [],
   "source": []
  },
  {
   "cell_type": "code",
   "execution_count": null,
   "metadata": {},
   "outputs": [],
   "source": []
  }
 ],
 "metadata": {
  "kernelspec": {
   "display_name": "thesis_venv",
   "language": "python",
   "name": "python3"
  },
  "language_info": {
   "codemirror_mode": {
    "name": "ipython",
    "version": 3
   },
   "file_extension": ".py",
   "mimetype": "text/x-python",
   "name": "python",
   "nbconvert_exporter": "python",
   "pygments_lexer": "ipython3",
   "version": "3.11.7"
  }
 },
 "nbformat": 4,
 "nbformat_minor": 2
}
